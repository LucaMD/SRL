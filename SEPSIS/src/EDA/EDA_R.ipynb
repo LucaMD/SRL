{
 "cells": [
  {
   "cell_type": "markdown",
   "metadata": {},
   "source": [
    "# ICV - ACTION INSPECTION"
   ]
  },
  {
   "cell_type": "code",
   "execution_count": null,
   "metadata": {},
   "outputs": [],
   "source": [
    "########################\n",
    "# load libraries\n",
    "library(tidyverse)   \n",
    "library(data.table)  \n",
    "library(ggplot2)\n",
    "library(RColorBrewer)\n",
    "library(colorRamps)\n",
    "library(repr)\n",
    "\n",
    "########################\n",
    "### MULTIPLOT. Source: http://www.cookbook-r.com/Graphs/Multiple_graphs_on_one_page_(ggplot2)/\n",
    "multiplot <- function(..., plotlist=NULL, file, cols=1, layout=NULL) {\n",
    "  library(grid)\n",
    "\n",
    "  # Make a list from the ... arguments and plotlist\n",
    "  plots <- c(list(...), plotlist)\n",
    "\n",
    "  numPlots = length(plots)\n",
    "\n",
    "  # If layout is NULL, then use 'cols' to determine layout\n",
    "  if (is.null(layout)) {\n",
    "    # Make the panel\n",
    "    # ncol: Number of columns of plots\n",
    "    # nrow: Number of rows needed, calculated from # of cols\n",
    "    layout <- matrix(seq(1, cols * ceiling(numPlots/cols)),\n",
    "                    ncol = cols, nrow = ceiling(numPlots/cols))\n",
    "  }\n",
    "\n",
    " if (numPlots==1) {\n",
    "    print(plots[[1]])\n",
    "\n",
    "  } else {\n",
    "    # Set up the page\n",
    "    grid.newpage()\n",
    "    pushViewport(viewport(layout = grid.layout(nrow(layout), ncol(layout))))\n",
    "\n",
    "    # Make each plot, in the correct location\n",
    "    for (i in 1:numPlots) {\n",
    "      # Get the i,j matrix positions of the regions that contain this subplot\n",
    "      matchidx <- as.data.frame(which(layout == i, arr.ind = TRUE))\n",
    "\n",
    "      print(plots[[i]], vp = viewport(layout.pos.row = matchidx$row,\n",
    "                                      layout.pos.col = matchidx$col))\n",
    "    }\n",
    "  }\n",
    "}"
   ]
  },
  {
   "cell_type": "markdown",
   "metadata": {},
   "source": [
    "# Set Working directory"
   ]
  },
  {
   "cell_type": "code",
   "execution_count": null,
   "metadata": {},
   "outputs": [],
   "source": [
    "########################\n",
    "### SET WORKING DIRECTORY\n",
    "setwd(\"/Users/luca/Projects/rl_sepsis/SEPSIS\")\n",
    "#setwd(\"C:/Users/l.roggeveen/SRL/rl_sepsis/SEPSIS/\")\n",
    "#setwd(\"D:/ResearchData/rl_sepsis/SEPSIS\")"
   ]
  },
  {
   "cell_type": "markdown",
   "metadata": {},
   "source": [
    "# Run analysis"
   ]
  },
  {
   "cell_type": "code",
   "execution_count": null,
   "metadata": {},
   "outputs": [],
   "source": [
    "# SET OUTPUT PATH\n",
    "location = getwd()\n",
    "fig_path = paste(location, '/figures/',sep=\"\")\n",
    "print(fig_path)\n",
    "\n",
    "########################\n",
    "### IMPORT ICV DATA\n",
    "data_path <- 'data/'\n",
    "ICV_data<- suppressMessages(suppressWarnings(read_csv(paste0(data_path, 'ICV_data.csv'))))\n",
    "\n",
    "########################\n",
    "### IMPORT MIMIC DATA\n",
    "MIMIC_data_path <- 'MIMIC_data/'\n",
    "sepsis_df <- suppressMessages(suppressWarnings(read_csv(paste0(MIMIC_data_path, 'sepsis3-df-no-exclusions.csv')) %>% rename(PatientID = icustay_id) %>% select(PatientID, dbsource)))\n",
    "MIMIC_data <- suppressMessages(suppressWarnings(read_csv(paste0(data_path, 'MIMIC_data.csv'))))\n",
    "\n",
    "# Combine data with admission source\n",
    "MIMIC_all <- MIMIC_data %>% left_join(sepsis_df)\n",
    "summary(as.factor(MIMIC_all$dbsource))\n",
    "\n",
    "# SUBSET dbsource = METAVISION and show figures\n",
    "MIMIC_MV = MIMIC_all %>% filter(dbsource == 'metavision') %>% select(-dbsource)\n",
    "\n",
    "########################\n",
    "print(\"done\")"
   ]
  },
  {
   "cell_type": "code",
   "execution_count": null,
   "metadata": {},
   "outputs": [],
   "source": [
    "## Expand palette size, ignore warnings about pallet sizes\n",
    "colourCount = 21 # number of actions\n",
    "getPalette = suppressWarnings(colorRampPalette(brewer.pal(9, \"Set2\")))\n",
    "long_colors = suppressWarnings(colorRampPalette(brewer.pal(12, \"Spectral\"))(colourCount))\n",
    "\n",
    "# ICV\n",
    "icv_plot = ggplot( ICV_data, aes(total_IV, max_VP, color = as.factor(discrete_action))) + \n",
    "        geom_point() + scale_color_manual(values = long_colors) + \n",
    "        scale_y_log10(limits = c(0.01,10)) + \n",
    "        scale_x_log10(limits = c(0.01,10000), labels = scales::comma) +\n",
    "        ggtitle(\"Fluids (IV) vs Vasopressor (VP) dose action bins\") + \n",
    "        theme(legend.position=\"none\") + theme(panel.border = element_blank(), panel.grid.major = element_blank(),\n",
    "                                              panel.grid.minor = element_blank(), panel.background = element_blank()) +\n",
    "        labs(subtitle=\"AmsterdamUMCdb dataset\",y = \"Max VP Dose (ugram/min)\",x = \"Total IV fluid (mL)\",caption=\"X and Y Axis on log10 scale\")\n",
    "\n",
    "# MIMIC\n",
    "mimic_plot = ggplot( MIMIC_MV, aes(total_IV, max_VP, color = as.factor(discrete_action))) + \n",
    "        geom_point() + scale_color_manual(values = long_colors) + \n",
    "        scale_y_log10(limits = c(0.01,10)) + \n",
    "        scale_x_log10(limits = c(0.01,10000), labels = scales::comma) +\n",
    "        ggtitle(\"Fluids (IV) vs Vasopressor (VP) dose action bins\") + \n",
    "        theme(legend.position=\"none\") + theme(panel.border = element_blank(), panel.grid.major = element_blank(), \n",
    "                                              panel.grid.minor = element_blank(), panel.background = element_blank()) +\n",
    "        labs(subtitle=\"MIMIC dataset\",y = \"Max VP Dose (ugram/min)\",x = \"Total IV fluid (mL)\",caption=\"X and Y Axis on log10 scale\") \n",
    "\n",
    "########################\n",
    "### PLOT\n",
    "options(repr.plot.width=12, repr.plot.height=5)\n",
    "suppressWarnings(multiplot(mimic_plot, icv_plot, cols=2))\n",
    "\n",
    "########################\n",
    "### SAFE PNG\n",
    "options(repr.plot.width=12, repr.plot.height=5)\n",
    "png(filename = paste(fig_path,\"ACTIONS_datasets.png\",sep = \"\"), width = 12, height = 5, units = \"in\", res = 400, pointsize=6)\n",
    "suppressWarnings(multiplot(mimic_plot, icv_plot, cols=2))\n",
    "dev.off()\n",
    "\n",
    "########################\n",
    "### SAFE TIFF\n",
    "options(repr.plot.width=12, repr.plot.height=5)\n",
    "tiff(filename = paste(fig_path,\"Action_dist_datasets.tiff\"), width = 12, height = 5, units = \"in\", res = 200, pointsize=6)\n",
    "suppressWarnings(multiplot(mimic_plot, icv_plot, cols=2))\n",
    "dev.off()"
   ]
  }
 ],
 "metadata": {
  "kernelspec": {
   "display_name": "R",
   "language": "R",
   "name": "ir"
  },
  "language_info": {
   "codemirror_mode": "r",
   "file_extension": ".r",
   "mimetype": "text/x-r-source",
   "name": "R",
   "pygments_lexer": "r",
   "version": "3.6.1"
  }
 },
 "nbformat": 4,
 "nbformat_minor": 4
}
