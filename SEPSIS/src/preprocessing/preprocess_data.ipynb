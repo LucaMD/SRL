{
 "cells": [
  {
   "cell_type": "code",
   "execution_count": null,
   "metadata": {},
   "outputs": [],
   "source": [
    "############################################################################\n",
    "### import libraries\n",
    "import os\n",
    "import platform\n",
    "import copy\n",
    "import sys\n",
    "import pyodbc\n",
    "import pymssql\n",
    "import pandas as pd\n",
    "import numpy as np\n",
    "import functools\n",
    "import sklearn as sk\n",
    "import joblib\n",
    "from fancyimpute import KNN    \n",
    "from sklearn.neighbors import KNeighborsClassifier\n",
    "from sklearn.feature_extraction import DictVectorizer\n",
    "from functools import reduce\n",
    "from datetime import datetime\n",
    "\n",
    "import matplotlib.pyplot as plt\n",
    "%matplotlib inline\n",
    "\n",
    "################################################################################################################\n",
    "################################################################################################################\n",
    "# automatically reload python fiels (util.py and conf.py) when they are changed.\n",
    "%reload_ext autoreload\n",
    "%autoreload 2\n",
    "\n",
    "# import from parent directory with a little help from sys.path.insert()\n",
    "sys.path.insert(0, '..') \n",
    "\n",
    "### from util.py (file which once contained all classes and functions):\n",
    "from util import * \n",
    "\n",
    "### Configuration file to determine root directory \n",
    "import conf\n",
    "\n",
    "# from configuration file set working directory\n",
    "os.chdir(os.path.join(conf.ROOT_DIR, 'SEPSIS'))\n",
    "\n",
    "# Define the subfolders paths\n",
    "data_path = '\\data\\\\'\n",
    "\n",
    "############################################################################\n",
    "# Settings for Pandas to display more then the default amount of collumns\n",
    "pd.set_option(\"display.max_columns\",150)\n",
    "\n",
    "### Check everything\n",
    "conf.print_python_environment()"
   ]
  },
  {
   "cell_type": "markdown",
   "metadata": {},
   "source": [
    "# Import data from MIMIC and ICV\n",
    "\n",
    "        # This notebook reads in the input data and then preprocesses the model features\n",
    "        # Firstly, patients without sufficient data are dropped\n",
    "        # Secondly, data is split into train/validation/test\n",
    "        # Then, training, validation and test sets are split - FINAL SETUP = Train = 70% MIMIC train, Validaton = 30% MIMIC, Test = 100% ICV\n",
    "        # Finally, relevant binary features and normally/log-normally features are standardised accordingly\n",
    "        # Resulting datasets are saved together in a pickle file that has no patient identifying information and can be uploaded to github for transparency sake"
   ]
  },
  {
   "cell_type": "code",
   "execution_count": null,
   "metadata": {},
   "outputs": [],
   "source": [
    "# import csv files\n",
    "ICV_data = pd.read_csv(os.path.join(conf.DATA_DIR, 'ICV_data.csv'), sep=',')\n",
    "MIMIC_data = pd.read_csv(os.path.join(conf.DATA_DIR, 'MIMIC_MVdata.csv'), sep=',')\n",
    "\n",
    "# Check if dimensions and data types of the MIMC and ICV datasets are the same\n",
    "((MIMIC_data.dtypes.index == ICV_data.dtypes.index) & (MIMIC_data.columns == ICV_data.columns)).all()"
   ]
  },
  {
   "cell_type": "markdown",
   "metadata": {},
   "source": [
    "## Fix action space (remove empty actions \"5,10,15,20\")"
   ]
  },
  {
   "cell_type": "code",
   "execution_count": null,
   "metadata": {},
   "outputs": [],
   "source": [
    "# actual (fancy-ass) mapping function\n",
    "mapping = [x for x in range(25) if x not in [5, 10, 15, 20]]\n",
    "\n",
    "# Check what actions take place in the test dataset and how the mapping would transform them. \n",
    "print(sorted(ICV_data['discrete_action'].unique()))\n",
    "print(sorted(ICV_data['discrete_action'].apply(lambda x: mapping.index(x)).unique())) # (no more nested if/else statements)\n",
    "\n",
    "# Check what actions take place in the test dataset and how the mapping would transform them. \n",
    "print(sorted(MIMIC_data['discrete_action'].unique()))\n",
    "print(sorted(MIMIC_data['discrete_action'].apply(lambda x: mapping.index(x)).unique())) # (no more nested if/else statements)"
   ]
  },
  {
   "cell_type": "code",
   "execution_count": null,
   "metadata": {},
   "outputs": [],
   "source": [
    "# keep original action space\n",
    "MIMIC_data['discrete_action_original'] = MIMIC_data['discrete_action']\n",
    "ICV_data['discrete_action_original'] = ICV_data['discrete_action']\n",
    "# apply mapping\n",
    "MIMIC_data['discrete_action'] = MIMIC_data['discrete_action'].apply(lambda x: mapping.index(x))\n",
    "ICV_data['discrete_action'] = ICV_data['discrete_action'].apply(lambda x: mapping.index(x))"
   ]
  },
  {
   "cell_type": "markdown",
   "metadata": {},
   "source": [
    "## ICV: Exclude patients with insufficient data"
   ]
  },
  {
   "cell_type": "code",
   "execution_count": null,
   "metadata": {},
   "outputs": [],
   "source": [
    "# add new row to ICV dataset representing the % of feature collumns with missing data\n",
    "ICV_data['ICV_percent_missing'] = ICV_data.isna().sum(axis=1)/47*100 # not 54 because we only have 47 'real' features\n",
    "print(\"total amount of patients: \" + str(len(ICV_data.PatientID.unique().tolist())))\n",
    "\n",
    "# MINIMAL % OF MISSING DATA PATIENTS\n",
    "min_percent_missing_ptlist = ICV_data.loc[ICV_data.groupby('PatientID')['ICV_percent_missing'].idxmin()][['PatientID','ICV_percent_missing']]\n",
    "list_of_min_percentage_missing_patientIDs = min_percent_missing_ptlist[min_percent_missing_ptlist['ICV_percent_missing']>20].PatientID.tolist()\n",
    "print(\"Unique patients to be excluded because they always (any time period) have >20% missing data: \" + str(len(min_percent_missing_ptlist[min_percent_missing_ptlist['ICV_percent_missing']>20])))\n",
    "\n",
    "mean_percent_missing_ptlist = ICV_data.groupby('PatientID')['ICV_percent_missing'].mean()\n",
    "#print(\"Unique patients to be excluded because they have an average of >20% missing data: \" + str(len(mean_percent_missing_ptlist[mean_percent_missing_ptlist['ICV_percent_missing']>20])))\n",
    "\n",
    "list_of_mean_percentage_missing_patientIDs = mean_percent_missing_ptlist.index[mean_percent_missing_ptlist>20].tolist()\n",
    "print(\"Amount of patients to exclude based on mean percentage (20%) of missing data: \" + str(len(list_of_mean_percentage_missing_patientIDs)))\n",
    "\n",
    "# total amount of patients to exclude:\n",
    "exclude_ptid_list = list_of_min_percentage_missing_patientIDs+list_of_mean_percentage_missing_patientIDs\n",
    "print(\"total amount of patients to be exclude based on MIN and MEAN missing data >20%: \" + str(len(~ICV_data[ICV_data['PatientID'].isin(exclude_ptid_list)].PatientID.unique())    ))\n",
    "\n",
    "# plot % of missing data\n",
    "mean_percent_missing_ptlist.plot.hist(bins=50,ylim=(0,1000),color='b', alpha=0.5) # blue = mean\n",
    "min_percent_missing_ptlist.ICV_percent_missing.plot.hist(bins=50,ylim=(0,1000),color='r', alpha=0.5) # red = min\n",
    "\n",
    "# FINAL DATASET ICV\n",
    "print(\"Final ICV patient count: \" + str( len(ICV_data.PatientID.unique().tolist()) - len(~ICV_data[ICV_data['PatientID'].isin(exclude_ptid_list)].PatientID.unique())     ))\n",
    "filt_ICV = ICV_data[~ICV_data['PatientID'].isin(exclude_ptid_list)]\n",
    "filt_ICV.head()"
   ]
  },
  {
   "cell_type": "markdown",
   "metadata": {},
   "source": [
    "## MIMIC: Exclude patients with insufficient data"
   ]
  },
  {
   "cell_type": "code",
   "execution_count": null,
   "metadata": {},
   "outputs": [],
   "source": [
    "# add new row to ICV dataset representing the % of feature collumns with missing data\n",
    "MIMIC_data['MIMIC_percent_missing'] = MIMIC_data.isna().sum(axis=1)/47*100 # not 54 because we only have 47 'real' features\n",
    "print(\"total amount of patients: \" + str(len(MIMIC_data.PatientID.unique().tolist())))\n",
    "\n",
    "# MINIMAL % OF MISSING DATA PATIENTS\n",
    "min_percent_missing_ptlist = MIMIC_data.loc[MIMIC_data.groupby('PatientID')['MIMIC_percent_missing'].idxmin()][['PatientID','MIMIC_percent_missing']]\n",
    "list_of_min_percentage_missing_patientIDs = min_percent_missing_ptlist[min_percent_missing_ptlist['MIMIC_percent_missing']>20].PatientID.tolist()\n",
    "print(\"Amount of excluded patients based on minimum percentage (20%) of missing data: \" + str(len(min_percent_missing_ptlist[min_percent_missing_ptlist['MIMIC_percent_missing']>20])))\n",
    "\n",
    "\n",
    "# MEAN % OF MISSING DATA PATIENTS\n",
    "mean_percent_missing_ptlist = MIMIC_data.groupby('PatientID')['MIMIC_percent_missing'].mean()\n",
    "list_of_mean_percentage_missing_patientIDs = mean_percent_missing_ptlist.index[mean_percent_missing_ptlist>75].unique().tolist()\n",
    "print(\"Amount of excluded patients based on mean percentage (75%) of missing data: \" + str(len(list_of_mean_percentage_missing_patientIDs)))\n",
    "\n",
    "# FULL SET OF PATIENTS TO EXCLUDE:\n",
    "exclude_ptid_list = list_of_min_percentage_missing_patientIDs+list_of_mean_percentage_missing_patientIDs\n",
    "print(\"total amount of patients to be exclude based on MIN (red) and MEAN (blue) missing data >20%: \" + str(len(~MIMIC_data[MIMIC_data['PatientID'].isin(exclude_ptid_list)].PatientID.unique())    ))\n",
    "\n",
    "# plot % of missing data\n",
    "mean_percent_missing_ptlist.plot.hist(bins=50,ylim=(0,1500),color='b', alpha=0.5) # blue = mean\n",
    "min_percent_missing_ptlist.MIMIC_percent_missing.plot.hist(bins=50,ylim=(0,1500),color='r', alpha=0.5) # red = min\n",
    "\n",
    "# FINAL DATASET MIMIC\n",
    "print(\"Final MIMIC patient count: \" + str( len(MIMIC_data.PatientID.unique().tolist()) - len(~MIMIC_data[MIMIC_data['PatientID'].isin(exclude_ptid_list)].PatientID.unique())     ))\n",
    "filt_MIMIC = MIMIC_data[~MIMIC_data['PatientID'].isin(exclude_ptid_list)]\n",
    "filt_MIMIC.head()"
   ]
  },
  {
   "cell_type": "markdown",
   "metadata": {},
   "source": [
    "## Save final ICV and MIMIC datasets"
   ]
  },
  {
   "cell_type": "code",
   "execution_count": null,
   "metadata": {},
   "outputs": [],
   "source": [
    "filt_MIMIC = filt_MIMIC.drop(columns=['MIMIC_percent_missing'])\n",
    "filt_MIMIC.to_csv(os.path.join(conf.DATA_DIR, 'final_MIMIC.csv'), index=False)\n",
    "filt_ICV = filt_ICV.drop(columns=['ICV_percent_missing'])\n",
    "filt_ICV.to_csv(os.path.join(conf.DATA_DIR, 'final_ICV.csv'), index=False)"
   ]
  }
 ],
 "metadata": {
  "kernelspec": {
   "display_name": "Python 3",
   "language": "python",
   "name": "python3"
  },
  "language_info": {
   "codemirror_mode": {
    "name": "ipython",
    "version": 3
   },
   "file_extension": ".py",
   "mimetype": "text/x-python",
   "name": "python",
   "nbconvert_exporter": "python",
   "pygments_lexer": "ipython3",
   "version": "3.7.3"
  }
 },
 "nbformat": 4,
 "nbformat_minor": 4
}
