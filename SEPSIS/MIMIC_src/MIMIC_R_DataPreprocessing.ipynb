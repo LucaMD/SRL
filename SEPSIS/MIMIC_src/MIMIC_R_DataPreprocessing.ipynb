{
 "cells": [
  {
   "cell_type": "code",
   "execution_count": null,
   "metadata": {},
   "outputs": [],
   "source": [
    "########################\n",
    "# set working directory\n",
    "setwd(\"/Users/luca/Projects/rl_sepsis/SEPSIS\")\n",
    "#setwd(\"C:/Users/l.roggeveen/SRL/rl_sepsis/S EPSIS/\")\n",
    "#setwd(\"D:/ResearchData/rl_sepsis/SEPSIS\")\n",
    "\n",
    "# load libraries\n",
    "library(tidyverse) # install.packages(\"tidyverse\") # library(devtools) # install_version(\"rlang\", version = \"0.2.2\", repos = \"http://cran.us.r-project.org\")"
   ]
  },
  {
   "cell_type": "markdown",
   "metadata": {},
   "source": [
    "# Get Cohort data and create interval_times_df"
   ]
  },
  {
   "cell_type": "code",
   "execution_count": null,
   "metadata": {},
   "outputs": [],
   "source": [
    "########################\n",
    "# IMPORT DATA\n",
    "data_path <- 'MIMIC_data/'\n",
    "cohort_df <- read_csv(paste0(data_path, 'cohort.csv'))\n",
    "head(cohort_df)"
   ]
  },
  {
   "cell_type": "code",
   "execution_count": null,
   "metadata": {},
   "outputs": [],
   "source": [
    "########################\n",
    "# DATA TRANSFORMATIONS\n",
    "get_time_intervals <- function(start, end) {\n",
    "  interval_times <- seq(start, end, by = '4 hour')\n",
    "  interval_start_time <- interval_times[1:length(interval_times) -1]\n",
    "  interval_end_time <- interval_times[2:length(interval_times)]\n",
    "  return(data.frame(interval_start_time, interval_end_time))\n",
    "}\n",
    "interval_times_df <- cohort_df %>% \n",
    "  group_by(subject_id, hadm_id, icustay_id) %>% \n",
    "  do(get_time_intervals(.$window_start, .$window_end))\n",
    "\n",
    "# Visual check\n",
    "dim(interval_times_df)\n",
    "\n",
    "sprintf(\"Finished at: %st\", Sys.time())"
   ]
  },
  {
   "cell_type": "markdown",
   "metadata": {},
   "source": [
    "# VASOPRESSORS\n",
    "## Get vasopressor data"
   ]
  },
  {
   "cell_type": "code",
   "execution_count": null,
   "metadata": {},
   "outputs": [],
   "source": [
    "########################\n",
    "# IMPORT MORE DATA\n",
    "# Load some vassopressors\n",
    "vassopressor_cv_df <- read_csv(paste0(data_path, 'vassopressors_cv_cohort.csv'))\n",
    "vassopressor_mv_df <- read_csv(paste0(data_path, 'vassopressors_mv_cohort.csv'))\n",
    "sprintf(\"Finished at: %st\", Sys.time())"
   ]
  },
  {
   "cell_type": "markdown",
   "metadata": {},
   "source": [
    "## Process vasopressor data from the CareVue datatable"
   ]
  },
  {
   "cell_type": "code",
   "execution_count": null,
   "metadata": {},
   "outputs": [],
   "source": [
    "max_vassopressor_cv <- interval_times_df %>% \n",
    "  left_join(vassopressor_cv_df) %>% \n",
    "  group_by(subject_id, \n",
    "           hadm_id, \n",
    "           icustay_id, \n",
    "           interval_start_time, \n",
    "           interval_end_time) %>%\n",
    "  filter(charttime > interval_start_time & charttime <= interval_end_time) %>%\n",
    "  summarise(max_amount = max(mcgkgmin)) %>% mutate(max_amount = case_when(max_amount > 1e-02 ~ max_amount, TRUE ~ 0))\n",
    "\n",
    "summary(max_vassopressor_cv)\n",
    "sprintf(\"Finished at: %st\", Sys.time())"
   ]
  },
  {
   "cell_type": "markdown",
   "metadata": {},
   "source": [
    "## Process vasopressor data from the MetaVision datatable"
   ]
  },
  {
   "cell_type": "code",
   "execution_count": null,
   "metadata": {},
   "outputs": [],
   "source": [
    "max_vassopressor_mv <- interval_times_df %>% \n",
    "  left_join(vassopressor_mv_df) %>% \n",
    "  group_by(subject_id, \n",
    "           hadm_id, \n",
    "           icustay_id, \n",
    "           interval_start_time, \n",
    "           interval_end_time) %>%\n",
    "  filter(endtime > interval_start_time & endtime <= interval_end_time) %>%\n",
    "  summarise(max_amount = max(mcgkgmin)) %>% mutate(max_amount = case_when(max_amount > 1e-02 ~ max_amount, TRUE ~ 0))\n",
    "\n",
    "summary(max_vassopressor_mv)\n",
    "sprintf(\"Finished at: %st\", Sys.time())"
   ]
  },
  {
   "cell_type": "markdown",
   "metadata": {},
   "source": [
    "## Determine Quartiles"
   ]
  },
  {
   "cell_type": "markdown",
   "metadata": {},
   "source": [
    "### CREATE CUT-OFFS USING METAVISION PATIENTS ONLY"
   ]
  },
  {
   "cell_type": "code",
   "execution_count": null,
   "metadata": {},
   "outputs": [],
   "source": [
    "# A function to map the data to quartiles\n",
    "num2quartile <- function(x) {\n",
    "  #     x <- x[is.na(x)]\n",
    "  quants <- quantile(x, probs=0:4/4, na.rm = TRUE)\n",
    "  print(round(quants,5))\n",
    "  return(as.integer(cut(x, quants, include.lowest=TRUE)))\n",
    "}\n",
    "MIMIC_MV_VP_Quantiles = num2quartile(max_vassopressor_mv$max_amount)"
   ]
  },
  {
   "cell_type": "markdown",
   "metadata": {},
   "source": [
    "#### MV ONLY MIMIC DATA - VASOPRESSOR QUANTILES --> Perform manual cut on ICV DATA\n",
    "                  0%          25%          50%          75%         100% \n",
    "            0.00200       0.11016      0.22509      0.45035    222.73125 "
   ]
  },
  {
   "cell_type": "code",
   "execution_count": null,
   "metadata": {},
   "outputs": [],
   "source": [
    "### Table inspection\n",
    "table(as.integer(cut(max_vassopressor_mv$max_amount, breaks = c(-Inf, 0.00200, 0.11016, 0.22509, 0.45035, 222.73125)))-1 )\n",
    "table(as.integer(cut(max_vassopressor_mv$max_amount, breaks = c(-Inf, 0, 0.11016, 0.22509, 0.45035, Inf)))-1 )"
   ]
  },
  {
   "cell_type": "markdown",
   "metadata": {},
   "source": [
    "## Merge MV and CareVue"
   ]
  },
  {
   "cell_type": "code",
   "execution_count": null,
   "metadata": {},
   "outputs": [],
   "source": [
    "# Map to discrete vassopressor states\n",
    "temp_VP <- max_vassopressor_cv %>% \n",
    "  full_join(max_vassopressor_mv) %>%\n",
    "  filter(!is.na(max_amount))\n",
    "\n",
    "# merge vasopressor with interval_times (essentialy adds empty interval times that were left out in the initial max_vasopressor_mv join)\n",
    "action_df_VP <- temp_VP %>% right_join(interval_times_df) %>% group_by(subject_id, hadm_id, icustay_id, interval_start_time, interval_end_time) %>% summarise(max_amount = max(max_amount)) \n",
    "\n",
    "### add action MIMIC\n",
    "action_df_VP$discrete_VP <- as.integer(cut(action_df_VP$max_amount, breaks = c(-Inf, 0, 0.11016, 0.22509, 0.45035, Inf)))-1 \n",
    "\n",
    "# Change NA to zero's\n",
    "action_df_VP$max_amount[is.na(action_df_VP$max_amount)] <- 0\n",
    "action_df_VP$discrete_VP[is.na(action_df_VP$discrete_VP)] <- 0\n",
    "\n",
    "# Visual inspection\n",
    "head(action_df_VP)\n",
    "nrow(action_df_VP)\n",
    "table(action_df_VP$discrete_VP)"
   ]
  },
  {
   "cell_type": "markdown",
   "metadata": {},
   "source": [
    "# FLUIDS"
   ]
  },
  {
   "cell_type": "code",
   "execution_count": null,
   "metadata": {},
   "outputs": [],
   "source": [
    "########################\n",
    "# Pulling out some data.table stuff to go FAST\n",
    "library(data.table)\n",
    "interval_times_dt <- as.data.table(interval_times_df, key = 'icustay_id')\n",
    "head(interval_times_dt)"
   ]
  },
  {
   "cell_type": "markdown",
   "metadata": {},
   "source": [
    "## Import and process CareVue fluids"
   ]
  },
  {
   "cell_type": "code",
   "execution_count": null,
   "metadata": {},
   "outputs": [],
   "source": [
    "########################\n",
    "# load CAREVUE FLUIDS\n",
    "inputevents_cv_df <- read_csv(paste0(data_path, 'inputevents_cv_cohort.csv'))\n",
    "ie_filt_cv <- inputevents_cv_df %>% filter(amountuom == 'ml' & !is.na(amount) & amount >= 0 & amount < 5000)\n",
    "ie_filt_cv_dt <- as.data.table(ie_filt_cv, key = 'icustay_id')\n",
    "sprintf(\"Finished at: %st\", Sys.time())"
   ]
  },
  {
   "cell_type": "code",
   "execution_count": null,
   "metadata": {},
   "outputs": [],
   "source": [
    "########################\n",
    "# preprocess CAREVUE FLUIDS\n",
    "total_IV_cv <- interval_times_dt %>% \n",
    "  merge(ie_filt_cv_dt, allow.cartesian = TRUE) %>% \n",
    "  group_by(subject_id,\n",
    "           hadm_id, \n",
    "           icustay_id, \n",
    "           interval_start_time, \n",
    "           interval_end_time) %>%\n",
    "  filter(charttime > interval_start_time & charttime <= interval_end_time) %>%\n",
    "  summarise(total_amount = sum(amount))\n",
    "sprintf(\"Finished at: %st\", Sys.time())"
   ]
  },
  {
   "cell_type": "markdown",
   "metadata": {},
   "source": [
    "## Import and process MetaVision fluids"
   ]
  },
  {
   "cell_type": "code",
   "execution_count": null,
   "metadata": {},
   "outputs": [],
   "source": [
    "# Load the fluids\n",
    "inputevents_mv_df <- read_csv(paste0(data_path, 'inputevents_mv_cohort.csv'))\n",
    "\n",
    "\n",
    "MV_input = inputevents_mv_df %>% select(subject_id, icustay_id, hadm_id, starttime, endtime, \n",
    "                                        amount, amountuom, rate, rateuom, orderid, ordercategoryname, \n",
    "                                        secondaryordercategoryname, patientweight, totalamount) %>% \n",
    "                                 filter(amountuom == 'ml' & ordercategoryname != '14-Oral/Gastric Intake' & !is.na(amount) & amount > 0 & amount < 5000) %>% \n",
    "                                 mutate(duration = as.numeric(c(difftime(endtime, starttime)))) %>% \n",
    "                                 mutate(amount = round(amount,2)) %>% \n",
    "                                 select(-rate, -rateuom,-orderid,-ordercategoryname,-secondaryordercategoryname,-patientweight, -amountuom,-totalamount)\n",
    "head(MV_input)"
   ]
  },
  {
   "cell_type": "markdown",
   "metadata": {},
   "source": [
    "# Preprocess METAVISION IV fluids"
   ]
  },
  {
   "cell_type": "markdown",
   "metadata": {},
   "source": [
    "### 1. METAVISION IV dose started before interval and ended after interval"
   ]
  },
  {
   "cell_type": "code",
   "execution_count": null,
   "metadata": {},
   "outputs": [],
   "source": [
    "total_IV_during <- interval_times_dt %>% left_join(MV_input, allow.cartesian = TRUE) %>% group_by(subject_id, icustay_id, hadm_id, interval_start_time, interval_end_time) %>%\n",
    "                   filter(starttime < interval_start_time & endtime > interval_end_time) \n",
    "\n",
    "all_IV_during <- total_IV_during %>% mutate(total_amount_during = as.numeric(interval_end_time-interval_start_time) * (amount/duration))\n",
    "\n",
    "all_IV_during <- all_IV_during %>% select(subject_id, icustay_id, hadm_id, interval_start_time, interval_end_time, total_amount_during) %>% \n",
    "                                   group_by(subject_id, icustay_id, hadm_id, interval_start_time ,interval_end_time) %>% \n",
    "                                   summarise(total_amount = sum(total_amount_during))\n",
    "nrow(all_IV_during)\n",
    "head(all_IV_during)"
   ]
  },
  {
   "cell_type": "markdown",
   "metadata": {},
   "source": [
    "### 2. METAVISION IV dose started before and ended within interval"
   ]
  },
  {
   "cell_type": "code",
   "execution_count": null,
   "metadata": {},
   "outputs": [],
   "source": [
    "# IV dose started before interval and ended within interval\n",
    "total_IV_before <- interval_times_dt %>% left_join(MV_input, allow.cartesian = TRUE) %>% group_by(subject_id, icustay_id, hadm_id, interval_start_time, interval_end_time) %>%\n",
    "                   filter(starttime < interval_start_time & endtime > interval_start_time & endtime <= interval_end_time) \n",
    "\n",
    "all_IV_before <- total_IV_before %>% mutate(total_amount_before = as.numeric(difftime(endtime, interval_start_time, units='mins')) * (amount/duration))\n",
    "\n",
    "all_IV_before <- all_IV_before %>% select(subject_id, icustay_id, hadm_id, interval_start_time, interval_end_time, total_amount_before) %>% \n",
    "                                   group_by(subject_id, icustay_id, hadm_id, interval_start_time ,interval_end_time) %>% \n",
    "                                   summarise(total_amount = sum(total_amount_before))\n",
    "\n",
    "nrow(all_IV_before)\n",
    "head(all_IV_before)"
   ]
  },
  {
   "cell_type": "markdown",
   "metadata": {},
   "source": [
    "### 3. METAVISION IV dose started within interval and ended within interval"
   ]
  },
  {
   "cell_type": "code",
   "execution_count": null,
   "metadata": {},
   "outputs": [],
   "source": [
    "# IV dose started within the interval and ended within the interval\n",
    "all_IV_within <- interval_times_dt %>% left_join(MV_input, allow.cartesian = TRUE) %>% group_by(subject_id, icustay_id, hadm_id, interval_start_time, interval_end_time) %>%\n",
    "                 filter(starttime >= interval_start_time & starttime < interval_end_time & endtime <= interval_end_time & endtime > interval_start_time) %>%\n",
    "                 summarise(total_amount = sum(amount))\n",
    "nrow(all_IV_within)\n",
    "head(all_IV_within)"
   ]
  },
  {
   "cell_type": "markdown",
   "metadata": {},
   "source": [
    "### 4. METAVISION IV Dose started within interval and ended after interval"
   ]
  },
  {
   "cell_type": "code",
   "execution_count": null,
   "metadata": {},
   "outputs": [],
   "source": [
    "# IV dose started within interval and ended after interval\n",
    "total_IV_after <- interval_times_dt %>% left_join(MV_input, allow.cartesian = TRUE) %>% group_by(subject_id, icustay_id, hadm_id, interval_start_time, interval_end_time) %>%\n",
    "                   filter(starttime > interval_start_time & starttime < interval_end_time & endtime > interval_end_time) \n",
    "\n",
    "all_IV_after <- total_IV_after %>% mutate(total_amount_after = round((as.numeric(difftime(interval_end_time, starttime, units='mins'))/duration)*(amount/duration),3))\n",
    "\n",
    "all_IV_after <- all_IV_after %>% select(subject_id, icustay_id, hadm_id, interval_start_time, interval_end_time, total_amount_after) %>% \n",
    "                                 group_by(subject_id, icustay_id, hadm_id, interval_start_time,interval_end_time) %>% \n",
    "                                 summarise(total_amount = sum(total_amount_after))\n",
    "nrow(all_IV_after)"
   ]
  },
  {
   "cell_type": "code",
   "execution_count": null,
   "metadata": {},
   "outputs": [],
   "source": [
    "summary(all_IV_before$total_amount)\n",
    "summary(all_IV_within$total_amount)\n",
    "summary(all_IV_after$total_amount)\n",
    "summary(all_IV_during$total_amount)"
   ]
  },
  {
   "cell_type": "markdown",
   "metadata": {},
   "source": [
    "### 5. Join all METAVISION IV tables"
   ]
  },
  {
   "cell_type": "code",
   "execution_count": null,
   "metadata": {},
   "outputs": [],
   "source": [
    "# full join all IV tables\n",
    "total_IV <- all_IV_during %>% full_join(all_IV_before) %>% \n",
    "                                full_join(all_IV_within) %>% \n",
    "                                full_join(all_IV_after) %>% \n",
    "                                group_by(subject_id, icustay_id, hadm_id, interval_start_time, interval_end_time) %>%\n",
    "                                summarise(total_amount = sum(total_amount))\n",
    "head(total_IV)\n",
    "nrow(total_IV)\n",
    "sprintf(\"Finished at: %st\", Sys.time())"
   ]
  },
  {
   "cell_type": "markdown",
   "metadata": {},
   "source": [
    "## 6. Create QUARTILES actions for the IV fluid dose BASED ON MV ONLY!!!"
   ]
  },
  {
   "cell_type": "code",
   "execution_count": null,
   "metadata": {},
   "outputs": [],
   "source": [
    "MV_IV_Fluids = num2quartile(total_IV$total_amount)\n",
    "table(as.integer(cut(total_IV$total_amount, breaks = c(-Inf, 0, 39.83359, 204.40254, 635.20516, 24852.55100)))-1 )\n",
    "table(as.integer(cut(total_IV$total_amount, breaks = c(-Inf, 0, 39.83359, 204.40254, 635.20516, Inf)))-1 )"
   ]
  },
  {
   "cell_type": "markdown",
   "metadata": {},
   "source": [
    "### MV only MIMIC DATA - IV FLUID QUANTILES --> Perform manual cut on ICV DATA:\n",
    "         0%         25%         50%         75%        100% \n",
    "    0.00000    39.83359   204.40254   635.20516 24852.55100 "
   ]
  },
  {
   "cell_type": "markdown",
   "metadata": {},
   "source": [
    "# Merge Metavision and CareVue fluids"
   ]
  },
  {
   "cell_type": "code",
   "execution_count": null,
   "metadata": {},
   "outputs": [],
   "source": [
    "# Map to discrete IV states\n",
    "temp_IV <- total_IV_cv %>% \n",
    "  full_join(total_IV) %>%\n",
    "  filter(!is.na(total_amount))\n",
    "\n",
    "# merge vasopressor with interval_times (essentialy adds empty interval times that were left out in the initial max_vasopressor_mv join)\n",
    "action_df_IV <- temp_IV %>% right_join(interval_times_df) %>% group_by(subject_id, hadm_id, icustay_id, interval_start_time, interval_end_time) %>% summarise(total_amount = sum(total_amount)) \n",
    "\n",
    "### add action MIMIC\n",
    "# c(-Inf, 39.83359, 204.40254, 635.20516, Inf)\n",
    "action_df_IV$discrete_IV <- as.integer(cut(action_df_IV$total_amount, breaks = c(-Inf, 0, 39.83359, 204.40254, 635.20516, Inf)))-1 \n",
    "\n",
    "# Change NA to zero's\n",
    "action_df_IV$total_amount[is.na(action_df_IV$total_amount)] <- 0\n",
    "action_df_IV$discrete_IV[is.na(action_df_IV$discrete_IV)] <- 0\n",
    "\n",
    "# Visual inspection\n",
    "head(action_df_IV)\n",
    "nrow(action_df_IV)"
   ]
  },
  {
   "cell_type": "markdown",
   "metadata": {},
   "source": [
    "# Create final discrete action"
   ]
  },
  {
   "cell_type": "code",
   "execution_count": null,
   "metadata": {},
   "outputs": [],
   "source": [
    "action_df <- action_df_IV %>% full_join(action_df_VP)\n",
    "sprintf(\"Finished at: %st\", Sys.time())"
   ]
  },
  {
   "cell_type": "code",
   "execution_count": null,
   "metadata": {},
   "outputs": [],
   "source": [
    "# Get the final state as discrete_IV + 5 * discrete_pressor\n",
    "action_df <- action_df %>% mutate(discrete_action = discrete_IV + 5 * discrete_VP)\n",
    "action_df <- action_df %>% rename(total_IV = total_amount, max_VP = max_amount)\n",
    "sprintf(\"Finished at: %st\", Sys.time())"
   ]
  },
  {
   "cell_type": "code",
   "execution_count": null,
   "metadata": {},
   "outputs": [],
   "source": [
    "# check first:\n",
    "table(action_df_IV$discrete_IV)\n",
    "table(action_df_VP$discrete_VP)"
   ]
  },
  {
   "cell_type": "markdown",
   "metadata": {},
   "source": [
    "## Add Fluid running total"
   ]
  },
  {
   "cell_type": "code",
   "execution_count": null,
   "metadata": {},
   "outputs": [],
   "source": [
    "# Add running total\n",
    "action_df <- action_df %>% group_by(icustay_id) %>% arrange(subject_id,hadm_id,icustay_id,interval_start_time, interval_end_time) %>% mutate(Running_total_IV = cumsum(total_IV))"
   ]
  },
  {
   "cell_type": "code",
   "execution_count": null,
   "metadata": {},
   "outputs": [],
   "source": [
    "names(action_df)"
   ]
  },
  {
   "cell_type": "code",
   "execution_count": null,
   "metadata": {},
   "outputs": [],
   "source": [
    "########################\n",
    "# WRITE DATA\n",
    "write_csv(action_df, paste0(data_path, 'action_df.csv'))\n",
    "write_csv(interval_times_df, paste0(data_path, 'interval_times_df.csv'))\n",
    "sprintf(\"Finished at: %st\", Sys.time())"
   ]
  },
  {
   "cell_type": "markdown",
   "metadata": {},
   "source": [
    "## Visually inspect final action space"
   ]
  },
  {
   "cell_type": "code",
   "execution_count": null,
   "metadata": {},
   "outputs": [],
   "source": [
    "# check to make sure everything is ok\n",
    "ggplot(action_df, aes(total_IV, max_VP, color = as.factor(discrete_action))) + \n",
    "  geom_point() + scale_y_log10() + scale_x_log10() + xlab('Total IV fluid (mL)') + ylab('Max VP Dose')\n",
    "sprintf(\"Finished at: %st\", Sys.time())"
   ]
  },
  {
   "cell_type": "markdown",
   "metadata": {},
   "source": [
    "### END OF PART 1\n",
    "# Part 2: vitals and labs"
   ]
  },
  {
   "cell_type": "code",
   "execution_count": null,
   "metadata": {},
   "outputs": [],
   "source": [
    "########################\n",
    "### import cohort and time series\n",
    "cohort_df <- read_csv(paste0(data_path, 'cohort.csv')) %>% select(-X1)\n",
    "sprintf(\"Finished at: %st\", Sys.time())\n",
    "\n",
    "# visual check\n",
    "head(cohort_df)\n",
    "sprintf(\"Finished at: %st\", Sys.time())"
   ]
  },
  {
   "cell_type": "markdown",
   "metadata": {},
   "source": [
    "### VITALS"
   ]
  },
  {
   "cell_type": "code",
   "execution_count": null,
   "metadata": {},
   "outputs": [],
   "source": [
    "########################\n",
    "### import vitals data\n",
    "vitals_df <- read_csv(paste0(data_path, 'vitals_cohort.csv'))\n",
    "\n",
    "# visual check\n",
    "head(vitals_df)\n",
    "sprintf(\"Finished at: %st\", Sys.time())"
   ]
  },
  {
   "cell_type": "code",
   "execution_count": null,
   "metadata": {},
   "outputs": [],
   "source": [
    "# Cast to DataTable\n",
    "vitals_dt <- as.data.table(vitals_df, key = 'icustay_id')\n",
    "interval_times_dt <- as.data.table(interval_times_df, key = 'icustay_id')\n",
    "\n",
    "# Assign vital signs to the corresponding interval times\n",
    "merged_vitals <- interval_times_dt %>% \n",
    "                    merge(vitals_dt, allow.cartesian = TRUE)\n",
    "\n",
    "# take the mean vital sign for each interval time\n",
    "mean_vitals <- merged_vitals[charttime > interval_start_time & charttime <= interval_end_time,\n",
    "                                   .(mean_vital = mean(valuenum)), by = .(subject_id, \n",
    "                                                                          hadm_id, \n",
    "                                                                          icustay_id, \n",
    "                                                                          interval_start_time, \n",
    "                                                                          interval_end_time, \n",
    "                                                                          vital_id)]\n",
    "# visual check merged vitals\n",
    "head(mean_vitals)\n",
    "sprintf(\"Finished at: %st\", Sys.time())"
   ]
  },
  {
   "cell_type": "markdown",
   "metadata": {},
   "source": [
    "### LABS"
   ]
  },
  {
   "cell_type": "code",
   "execution_count": null,
   "metadata": {},
   "outputs": [],
   "source": [
    "########################\n",
    "# load the labs data\n",
    "labs_dt <- read_csv(paste0(data_path, 'labs_cohort.csv'))\n",
    "labs_dt <- as.data.table(labs_dt, key = 'icustay_id')\n",
    "\n",
    "# visual check\n",
    "head(labs_dt)\n",
    "sprintf(\"Finished at: %st\", Sys.time())\n",
    "\n",
    "# Assign lab value to the corresponding interval times\n",
    "merged_labs <- interval_times_dt %>% \n",
    "                    merge(labs_dt, allow.cartesian = TRUE)\n",
    "\n",
    "# take the mean lab value for each interval time\n",
    "mean_labs <- merged_labs[charttime > interval_start_time & charttime <= interval_end_time,\n",
    "                                   .(mean_lab = mean(valuenum)), by = .(subject_id, \n",
    "                                                                          hadm_id, \n",
    "                                                                          icustay_id, \n",
    "                                                                          interval_start_time, \n",
    "                                                                          interval_end_time, \n",
    "                                                                          lab_id)]\n",
    "# visual check merged labs\n",
    "head(mean_labs)\n",
    "sprintf(\"Finished at: %st\", Sys.time())"
   ]
  },
  {
   "cell_type": "markdown",
   "metadata": {},
   "source": [
    "### MERGE LABS AND VITALS"
   ]
  },
  {
   "cell_type": "code",
   "execution_count": null,
   "metadata": {},
   "outputs": [],
   "source": [
    "########################\n",
    "### Merge Labs and Vitals\n",
    "\n",
    "# make it pretty\n",
    "mean_labs <- mean_labs %>% rename(meas_id = lab_id, mean_value = mean_lab)\n",
    "mean_vitals <- mean_vitals %>% rename(meas_id = vital_id, mean_value = mean_vital)\n",
    "\n",
    "# Join tables\n",
    "mean_labs_vitals <- mean_labs %>% full_join(mean_vitals)\n",
    "vitals_labs_spread <- mean_labs_vitals %>% \n",
    "                        spread(meas_id, mean_value) %>% \n",
    "                        right_join(interval_times_dt) \n",
    "\n",
    "# Exclude times in which no measurements were made\n",
    "vitals_labs_spread_filt <- vitals_labs_spread %>%\n",
    "                                gather(lab_id, meas_value, ALBUMIN:WBC) %>%\n",
    "                                group_by(subject_id, hadm_id, icustay_id, interval_start_time, interval_end_time) %>%\n",
    "                                summarise(exclude = all(is.na(meas_value))) %>%\n",
    "                                full_join(vitals_labs_spread) %>%\n",
    "                                filter(!exclude)\n",
    "\n",
    "# visual check of combined vitals and labs spread file (final file)\n",
    "head(vitals_labs_spread_filt)\n",
    "sprintf(\"Finished at: %st\", Sys.time())"
   ]
  },
  {
   "cell_type": "code",
   "execution_count": null,
   "metadata": {},
   "outputs": [],
   "source": [
    "print(names(vitals_labs_spread_filt))"
   ]
  },
  {
   "cell_type": "code",
   "execution_count": null,
   "metadata": {},
   "outputs": [],
   "source": [
    "########################\n",
    "### export data to csv\n",
    "write_csv(vitals_labs_spread_filt, paste0(data_path, 'vitals_labs_spread_filt.csv'))\n",
    "sprintf(\"Finished at: %st\", Sys.time())"
   ]
  },
  {
   "cell_type": "markdown",
   "metadata": {},
   "source": [
    "### End op part 2"
   ]
  },
  {
   "cell_type": "markdown",
   "metadata": {},
   "source": [
    "# Create MIMIC_DATA_ALL\n",
    "### Part 3: Merge vitals and labs with demographics and save full as data_all.csv"
   ]
  },
  {
   "cell_type": "code",
   "execution_count": null,
   "metadata": {},
   "outputs": [],
   "source": [
    "####################################################################################\n",
    "####################################################################################\n",
    "####################################################################################\n",
    "### PREPARATION\n",
    "\n",
    "########################\n",
    "# set working directory\n",
    "setwd(\"/Users/luca/Projects/rl_sepsis/SEPSIS\")\n",
    "#setwd(\"C:/Users/l.roggeveen/SRL/rl_sepsis/SEPSIS/\")\n",
    "#setwd(\"D:/ResearchData/rl_sepsis/SEPSIS\")\n",
    "\n",
    "########################\n",
    "# load libraries\n",
    "library(tidyverse) # install.packages(\"tidyverse\")\n",
    "library(data.table)  # install.packages(\"data.table\")\n",
    "\n",
    "# To know the current storage capacity\n",
    "memory.limit()\n",
    "\n",
    "# To increase the storage capacity (increases storage capacity to >>>7GB)\n",
    "memory.limit(size=99000)\n",
    "\n",
    "# Path to directory with data files\n",
    "data_path <- 'MIMIC_data/'\n",
    "\n",
    "### IMPORT\n",
    "interval_times_df <- read_csv(paste0(data_path, 'interval_times_df.csv'))\n",
    "vitals_labs <- read_csv(paste0(data_path, 'vitals_labs_spread_filt.csv'))\n",
    "demographics <- read_csv(paste0(data_path, 'demographics_cohort.csv'))\n",
    "urine_df <- read_csv(paste0(data_path, 'UrineOutput_cohort.csv'))\n",
    "\n",
    "sprintf(\"Finished at: %st\", Sys.time())"
   ]
  },
  {
   "cell_type": "code",
   "execution_count": null,
   "metadata": {},
   "outputs": [],
   "source": [
    "# Perform LVCF\n",
    "vitals_labs_lvcf <- vitals_labs %>% group_by(subject_id, hadm_id, icustay_id) %>%\n",
    "                        arrange(subject_id, hadm_id, icustay_id, interval_start_time) %>%\n",
    "                        fill(ALAT:WBC) # ALAT:WBC is based on the on 7th up to 40th collumn corresponding to all the actual features in this dataframe\n",
    "\n",
    "# final merge\n",
    "data_all <- vitals_labs_lvcf %>% full_join(demographics) %>% ungroup() %>% select(-\"<NA>\")\n",
    "head(data_all)\n",
    "print(names(data_all))\n",
    "sprintf(\"Finished at: %st\", Sys.time())"
   ]
  },
  {
   "cell_type": "markdown",
   "metadata": {},
   "source": [
    "## Urine output + CUMULATIVE"
   ]
  },
  {
   "cell_type": "code",
   "execution_count": null,
   "metadata": {},
   "outputs": [],
   "source": [
    "# load the urine output data\n",
    "urine_dt <- read_csv(paste0(data_path, 'UrineOutput_cohort.csv'))\n",
    "urine_dt <- as.data.table(urine_df, key = 'icustay_id') %>% filter(value<5000 & value>0)\n",
    "\n",
    "# Merge with interval times\n",
    "merged_urine <- interval_times_dt %>% merge(urine_dt, allow.cartesian = TRUE)\n",
    "\n",
    "# MERGE WITH MEAN() + Keep only 'real value' (urine production within interval times)\n",
    "total_urine_df <- merged_urine[charttime > interval_start_time & charttime <= interval_end_time,\n",
    "                         .(total_UP = sum(value)), by = .(subject_id,hadm_id,icustay_id, \n",
    "                                                           interval_start_time, \n",
    "                                                           interval_end_time)]\n",
    "total_urine_df <- total_urine_df %>% right_join(interval_times_dt) %>%  group_by(subject_id,hadm_id,icustay_id,interval_start_time, interval_end_time) %>%replace_na(list(total_UP = 0))\n",
    "\n",
    "# add running total\n",
    "all_UP <- total_urine_df %>% group_by(subject_id,hadm_id,icustay_id) %>% arrange(subject_id,hadm_id,icustay_id, interval_start_time, interval_end_time) %>% mutate(Running_total_UP = cumsum(total_UP))\n",
    "\n",
    "# visual check\n",
    "dim(all_UP)\n",
    "dim(interval_times_dt)\n",
    "tail(all_UP)\n",
    "\n",
    "# cleanup\n",
    "sprintf(\"Finished at: %st\", Sys.time())"
   ]
  },
  {
   "cell_type": "markdown",
   "metadata": {},
   "source": [
    "## FIO2"
   ]
  },
  {
   "cell_type": "code",
   "execution_count": null,
   "metadata": {},
   "outputs": [],
   "source": [
    "# load the urine output data\n",
    "fio2_dt <- read_csv(paste0(data_path, 'FiO2_cohort.csv'))\n",
    "fio2_dt <- as.data.table(fio2_dt, key = 'icustay_id')\n",
    "\n",
    "# Merge with interval times\n",
    "merged_fio2 <- interval_times_dt %>% merge(fio2_dt, allow.cartesian = TRUE)\n",
    "\n",
    "# MERGE WITH MEAN() + Keep only 'real value' (urine production within interval times)\n",
    "total_fio2_df <- merged_fio2[charttime > interval_start_time & charttime <= interval_end_time,\n",
    "                         .(FiO2 = mean(fio2)), by = .(subject_id,hadm_id,icustay_id, \n",
    "                                                           interval_start_time, \n",
    "                                                           interval_end_time)]\n",
    "total_fio2_df <- total_fio2_df %>% right_join(interval_times_dt) %>%  group_by(subject_id,hadm_id,icustay_id,interval_start_time, interval_end_time)\n",
    "\n",
    "\n",
    "total_fio2_df <- total_fio2_df %>% group_by(subject_id, hadm_id, icustay_id) %>%\n",
    "                        arrange(subject_id, hadm_id, icustay_id, interval_start_time) %>%\n",
    "                        fill(FiO2)\n",
    "\n",
    "# visual check\n",
    "dim(total_fio2_df)\n",
    "dim(interval_times_dt)\n",
    "head(total_fio2_df)\n",
    "\n",
    "# cleanup\n",
    "sprintf(\"Finished at: %st\", Sys.time())"
   ]
  },
  {
   "cell_type": "markdown",
   "metadata": {},
   "source": [
    "## Merge Data_all with Urine output and FIO2"
   ]
  },
  {
   "cell_type": "code",
   "execution_count": null,
   "metadata": {},
   "outputs": [],
   "source": [
    "# CREATE FINAL DATASET\n",
    "data_final <- data_all %>% full_join(total_fio2_df) %>% full_join(all_UP)\n",
    "# INSPECT\n",
    "dim(data_final)\n",
    "head(data_final)\n",
    "print(names(data_final))"
   ]
  },
  {
   "cell_type": "code",
   "execution_count": null,
   "metadata": {},
   "outputs": [],
   "source": [
    "########################\n",
    "### export data to csv\n",
    "write_csv(data_final, paste0(data_path, 'data_all.csv'))\n",
    "sprintf(\"Finished at: %st\", Sys.time())"
   ]
  },
  {
   "cell_type": "markdown",
   "metadata": {},
   "source": [
    "# MERGE ALL DATA"
   ]
  },
  {
   "cell_type": "code",
   "execution_count": null,
   "metadata": {},
   "outputs": [],
   "source": [
    "########################\n",
    "# set working directory\n",
    "setwd(\"/Users/luca/Projects/rl_sepsis/SEPSIS\")\n",
    "#setwd(\"C:/Users/l.roggeveen/SRL/rl_sepsis/SEPSIS/\")\n",
    "#setwd(\"D:/ResearchData/rl_sepsis/SEPSIS\")\n",
    "\n",
    "# load libraries\n",
    "library(tidyverse) # install.packages(\"tidyverse\") # library(devtools) # install_version(\"rlang\", version = \"0.2.2\", repos = \"http://cran.us.r-project.org\")\n",
    "\n",
    "########################\n",
    "# IMPORT DATA\n",
    "data_path <- 'MIMIC_data/'\n",
    "cohort_df <- read_csv(paste0(data_path, 'cohort.csv'))\n",
    "action_df <- read_csv(paste0(data_path, 'action_df.csv'))\n",
    "alldata_df <- read_csv(paste0(data_path, 'data_all.csv'))\n",
    "\n",
    "########################\n",
    "### Merge all data\n",
    "outcome_df <- cohort_df %>% group_by(subject_id, \n",
    "                                     hadm_id, \n",
    "                                     icustay_id)\n",
    "\n",
    "########################\n",
    "### Combine vitals and labs (data_all.csv) with actions (action_df.csv) and cohort (cohort.csv: only for discharge[0=alive])\n",
    "alldata_df_action <- alldata_df %>% inner_join(select(action_df, subject_id, \n",
    "                                                      hadm_id, \n",
    "                                                      icustay_id, \n",
    "                                                      interval_start_time, \n",
    "                                                      interval_end_time,\n",
    "                                                      discrete_action,\n",
    "                                                      total_IV,\n",
    "                                                      Running_total_IV,\n",
    "                                                      max_VP)) %>%\n",
    "  inner_join(cohort_df)\n",
    "\n",
    "########################\n",
    "### Add final reward and zeros for intermediate reward\n",
    "temp_alldata <- alldata_df_action %>% group_by(subject_id, \n",
    "                                               hadm_id, \n",
    "                                               icustay_id,\n",
    "                                               hospital_expire_flag) %>%\n",
    "  summarise(interval_start_time = max(interval_start_time)) %>%\n",
    "  mutate(reward = ifelse(hospital_expire_flag, -15, 15))\n",
    "\n",
    "# add \"intermediate reward\" to dataset (all 'NA' rewards are set to 0)\n",
    "temp_alldata_action_reward <- alldata_df_action %>% \n",
    "  left_join(temp_alldata) %>%\n",
    "  replace_na(list(reward = 0))\n",
    "\n",
    "########################\n",
    "### create final table\n",
    "final_df_all <- temp_alldata_action_reward %>% select(\n",
    "  -exclude, \n",
    "  -intime, \n",
    "  -outtime, \n",
    "  -window_start,\n",
    "  -window_end,\n",
    "  -suspected_infection_time_poe\n",
    ")\n",
    "# visual check\n",
    "print(names(final_df_all))"
   ]
  },
  {
   "cell_type": "markdown",
   "metadata": {},
   "source": [
    "# total_IV and max_VP Action shift (lag one state behind current state)"
   ]
  },
  {
   "cell_type": "code",
   "execution_count": null,
   "metadata": {},
   "outputs": [],
   "source": [
    "final_df_all = final_df_all %>% \n",
    "        group_by(icustay_id) %>% \n",
    "        mutate(total_IV_prev = lag(total_IV,order_by=icustay_id)) %>% \n",
    "        mutate(total_IV_prev = replace_na(total_IV_prev, 0)) %>%\n",
    "        ungroup()\n",
    "\n",
    "final_df_all = final_df_all %>% \n",
    "        group_by(icustay_id) %>%\n",
    "        mutate(max_VP_prev = lag(max_VP,order_by=icustay_id)) %>% \n",
    "        mutate(max_VP_prev = replace_na(max_VP_prev, 0)) %>%\n",
    "        ungroup()"
   ]
  },
  {
   "cell_type": "markdown",
   "metadata": {},
   "source": [
    "# Normalize Feature names and data Units to match ICV\n",
    "### from Raghu\n",
    "        binary_fields = ['gender','mechvent','re_admission']\n",
    "        \n",
    "        norm_fields= ['age','Weight_kg','GCS','HR','SysBP','MeanBP','DiaBP','RR','Temp_C','FiO2_1',\n",
    "            'Potassium','Sodium','Chloride','Glucose','Magnesium','Calcium',\n",
    "            'Hb','WBC_count','Platelets_count','PTT','PT','Arterial_pH','paO2','paCO2',\n",
    "            'Arterial_BE','HCO3','Arterial_lactate','SOFA','SIRS','Shock_Index',\n",
    "            'PaO2_FiO2','cumulated_balance_tev', 'elixhauser', 'Albumin', u'CO2_mEqL', 'Ionised_Ca']\n",
    "            \n",
    "        log_fields = ['max_dose_vaso','SpO2','BUN','Creatinine','SGOT','SGPT','Total_bili','INR',\n",
    "                      'input_total_tev','input_4hourly_tev','output_total','output_4hourly', 'bloc']"
   ]
  },
  {
   "cell_type": "code",
   "execution_count": null,
   "metadata": {},
   "outputs": [],
   "source": [
    "# subset features of interest\n",
    "MIMIC_temp_all <- final_df_all %>% select(-X1, -hadm_id, -subject_id, -race_white, -race_black, -blood_culture_positive, -BANDS,\n",
    "                                          -race_hispanic, -race_other, -elixhauser_hospital, -lods, -qsofa, -qsofa_gcs_score, -qsofa_sysbp_score, -qsofa_resprate_score) %>% \n",
    "                                   rename(PatientID = icustay_id)\n",
    "print(names(MIMIC_temp_all))"
   ]
  },
  {
   "cell_type": "code",
   "execution_count": null,
   "metadata": {},
   "outputs": [],
   "source": [
    "########################\n",
    "### transform data to ICV units \n",
    "MIMIC_all = MIMIC_temp_all %>%  rename(discrete_action = discrete_action) %>%             # MIMIC action   to ICV action   (no conversion needed) \n",
    "                                rename(max_VP = max_VP) %>%                               # MIMIC action   to ICV action   (no conversion needed) \n",
    "                                rename(total_IV = total_IV) %>%                           # MIMIC action   to ICV action   (no conversion needed) \n",
    "                                rename(Discharge = hospital_expire_flag) %>%              # MIMIC 1=death  to ICV 1=death  (no conversion needed) \n",
    "                                rename(Reward = reward) %>%                               # MIMIC score    to ICV score    (no conversion needed) \n",
    "                                rename(Sirs_score = sirs) %>%                             # MIMIC score    to ICV score    | ICV admission | MIMIC -> sepsis3.sql (onset)\n",
    "                                rename(Sofa_score = sofa) %>%                             # MIMIC score    to ICV score    | ICV admission | MIMIC -> sepsis3.sql (onset)\n",
    "                                rename(Weight = weight) %>%                               # MIMIC kg       to ICV kg       | ICV admission | MIMIC -> sepsis3.sql (onset)\n",
    "                                rename(Ventilator = vent) %>%                             # MIMIC 0/1      to ICV 0/1      | (-2 to +24h)  | MIMIC -> sepsis3.sql (-4 to +24h)\n",
    "                                rename(Height = height) %>%                               # MIMIC cm       to ICV cm       (no conversion needed)\n",
    "                                rename(Age = age) %>%                                     # MIMIC years    to ICV years    (no conversion needed)\n",
    "                                rename(Gender = is_male) %>%                              # MIMIC male=1   to ICV male=1   (no conversion needed)\n",
    "                                rename(HeartRate = HeartRate) %>%                         # MIMIC /min     to ICV /min     (no conversion needed) \n",
    "                                rename(Temp = TempC) %>%                                  # MIMIC Celcius  to ICV Celcius  (no conversion needed) \n",
    "                                rename(MAP = MeanBP) %>%                                  # MIMIC mmHg     to ICV mmHg     (no conversion needed) \n",
    "                                rename(DIA = DiasBP) %>%                                  # MIMIC mmHg     to ICV mmHg     (no conversion needed) \n",
    "                                rename(SYS = SysBP) %>%                                   # MIMIC mmHg     to ICV mmHg     (no conversion needed) \n",
    "                                rename(RespRate = RespRate) %>%                           # MIMIC /min     to ICV /min     (no conversion needed) \n",
    "                                rename(SpO2 = SpO2) %>%                                   # MIMIC %        to ICV %        (no conversion needed) \n",
    "                                rename(Natrium = SODIUM) %>%                              # MIMIC mEq/L    to ICV mmol/L   (no conversion needed) \n",
    "                                rename(Chloride = CHLORIDE) %>%                           # MIMIC mEq/L    to ICV mmol/L   (no conversion needed)\n",
    "                                rename(Kalium = POTASSIUM) %>%                            # MIMIC mEq/L    to ICV mmol/L   (no conversion needed) \n",
    "                                rename(Trombo = PLATELET) %>%                             # MIMIC k/ul     to ICV 10^9/L   (no conversion needed) \n",
    "                                rename(LEU = WBC) %>%                                     # MIMIC K/uL     to ICV 10e^9/L  (no conversion needed)\n",
    "                                rename(ANION_GAP = 'ANION GAP') %>%                       # MIMIC mEq/L    to ICV mmol/l   (no conversion needed)\n",
    "                                rename(APTT = PTT) %>%                                    # MIMIC sec      to ICV sec      (no conversion needed)\n",
    "                                rename(Art_PH = PH) %>%                                   # MIMIC geen     to ICV geen     (no conversion needed)\n",
    "                                rename(ASAT = ASAT) %>%                                   # MIMIC IU/L     to ICV IE/L     (no conversion needed)\n",
    "                                rename(ALAT = ALAT) %>%                                   # MIMIC IU/L     to ICV IE/L     (no conversion needed)\n",
    "                                rename(Bicarbonaat = BICARBONATE) %>%                     # MIMIC mEq/L    to ICV mmol/L   (no conversion needed)\n",
    "                                rename(Art_BE = BaseExcess) %>%                           # MIMIC mEq/L    to ICV mmol/L   (no conversion needed)\n",
    "                                rename(Ion_Ca = ION_CALCIUM) %>%                          # MIMIC mmol/l   to ICV mmol/L   (no conversion needed)\n",
    "                                rename(Lactate = LACTATE) %>%                             # MIMIC ?        to ICV ?        (no conversion needed)\n",
    "                                rename(PaCO2 = PACO2) %>%                                 # MIMIC mmHg     to ICV mmhg     (ICV SQL file converts Kpa to mmHg values, no further conversion needed)\n",
    "                                rename(PaO2 = PAO2) %>%                                   # MIMIC mmHg     to ICV mmhg     (ICV SQL file converts Kpa to mmHg values, no further conversion needed)\n",
    "                                mutate(Shock_Index = HeartRate / SYS) %>%                 # MIMIC score    to ICV score    (calculation of score) \n",
    "                                mutate(HB = HEMOGLOBIN * 0.6206) %>%                      # MIMIC g/dL     to ICV mmol/l   (http://www.scymed.com/en/smnxpf/pfxdq210_c.htm)\n",
    "                                mutate(Bili = BILIRUBIN * (1/0.05847953)) %>%             # MIMIC mg/dl    to ICV umol/L   (http://www.endmemo.com/medical/unitconvert/Bilirubin.php)\n",
    "                                mutate(Creat = CREATININE * (1/0.01131222)) %>%           # MIMIC mg/dl    to ICV umol/l   (http://www.endmemo.com/medical/unitconvert/Creatinine.php)\n",
    "                                mutate(INR = PT/12) %>%                                   # MIMIC sec      to ICV INR      (normal_PT~12)\n",
    "                                mutate(Ureum = BUN * 0.3571) %>%                          # MIMIC mg/dL    to ICV mmol/L   (http://www.scymed.com/en/smnxps/psxff047_c.htm)\n",
    "                                mutate(Albumine = ALBUMIN * 10) %>%                       # MIMIC g/dL     to ICV g/L      (simple conversion)\n",
    "                                mutate(Magnesium = MAGNESIUM * 0.411) %>%                 # MIMIC mg/dl    to ICV mmol/l   (http://www.endmemo.com/medical/unitconvert/Magnesium.php)\n",
    "                                mutate(Calcium = CALCIUM * 0.25) %>%                      # MIMIC mg/dl    to ICV mmol/L   (http://www.endmemo.com/medical/unitconvert/Calcium.php)\n",
    "                                mutate(PF_ratio = PaO2 / FiO2) %>%\n",
    "                                rename(glucose = Glucose) %>% \n",
    "                                       mutate(glutemp = rowMeans(data.frame(GLUCOSE, glucose),na.rm = TRUE)) %>% \n",
    "                                       mutate(Glucose = glutemp * 0.0555) %>%             # MIMIC mg/dL    to ICV mmol/l   (http://www.endmemo.com/medical/unitconvert/Glucose.php)\n",
    "                                select(-ALBUMIN, -CALCIUM, - CREATININE, -glucose, \n",
    "                                       -GLUCOSE, -glutemp, -BUN, -MAGNESIUM, \n",
    "                                       -HEMOGLOBIN, -BILIRUBIN,- PT)                           # remove old features\n",
    "\n",
    "# sort columns\n",
    "MIMIC_all = MIMIC_all[,c(names(MIMIC_all)[1:3],sort(colnames(MIMIC_all[4:ncol(MIMIC_all)] )))]\n",
    "print(names(MIMIC_all))\n",
    "head(MIMIC_all)"
   ]
  },
  {
   "cell_type": "code",
   "execution_count": null,
   "metadata": {},
   "outputs": [],
   "source": [
    "########################\n",
    "### export data to csv\n",
    "final_data_path = 'data/'\n",
    "write_csv(MIMIC_all, paste0(final_data_path, 'MIMIC_data.csv'))\n",
    "\n",
    "sprintf(\"Finished at: %st\", Sys.time())"
   ]
  },
  {
   "cell_type": "markdown",
   "metadata": {},
   "source": [
    "# Data preprocessing TO DO\n",
    "\n",
    "    !!! MISSING: re_admission?\n",
    "    !!! MISSING: GCS values (a mess in the ICV dataset, EXCLUDE FOR NOW)\n",
    "    !!! MISSING: mechvent as a binary measurement over time (daily or for each 4h timestep?) instead of singular binary feature for only first 24hours\n",
    "    !!! MISSING: SOFA scores over time (currently only admission Sofa score)\n",
    "    !!! MISSING: fluid balance (currently only IV fluids, should we also include gastro-intestinal intake?!!?)"
   ]
  },
  {
   "cell_type": "markdown",
   "metadata": {},
   "source": [
    "## Merge with original sepsis_no_exclusion to add: datasource"
   ]
  },
  {
   "cell_type": "code",
   "execution_count": null,
   "metadata": {},
   "outputs": [],
   "source": [
    "##########\n",
    "### PREPARATION\n",
    "data_path <- 'data/'\n",
    "\n",
    "# set working directory\n",
    "setwd(\"/Users/luca/Projects/rl_sepsis/SEPSIS\")\n",
    "#setwd(\"C:/Users/l.roggeveen/SRL/rl_sepsis/SEPSIS/\")\n",
    "#setwd(\"D:/ResearchData/rl_sepsis/SEPSIS\")\n",
    "\n",
    "# load libraries\n",
    "library(tidyverse) # install.packages(\"tidyverse\") # library(devtools) # install_version(\"rlang\", version = \"0.2.2\", repos = \"http://cran.us.r-project.org\")\n",
    "\n",
    "########################\n",
    "# IMPORT DATA\n",
    "MIMIC_data_path <- 'MIMIC_data/'\n",
    "sepsis_df <- read_csv(paste0(MIMIC_data_path, 'sepsis3-df-no-exclusions.csv')) %>% rename(PatientID = icustay_id) %>% select(PatientID, dbsource)\n",
    "MIMIC_data <- read_csv('data/MIMIC_data.csv')\n",
    "names(MIMIC_data)\n",
    "\n",
    "########################\n",
    "### Combine data with admission source\n",
    "MIMIC_all <- MIMIC_data %>% left_join(sepsis_df)\n",
    "summary(as.factor(MIMIC_all$dbsource))"
   ]
  },
  {
   "cell_type": "markdown",
   "metadata": {},
   "source": [
    "# SUBSET dbsource = METAVISION"
   ]
  },
  {
   "cell_type": "code",
   "execution_count": null,
   "metadata": {},
   "outputs": [],
   "source": [
    "MIMIC_MV = MIMIC_all %>% filter(dbsource == 'metavision') %>% select(-dbsource)\n",
    "head(MIMIC_MV)\n",
    "dim(MIMIC_MV)\n",
    "\n",
    "########################\n",
    "### export data to csv\n",
    "final_data_path = 'data/'\n",
    "write_csv(MIMIC_MV, paste0(final_data_path, 'MIMIC_MVdata.csv'))\n",
    "sprintf(\"Finished at: %st\", Sys.time())"
   ]
  },
  {
   "cell_type": "code",
   "execution_count": null,
   "metadata": {},
   "outputs": [],
   "source": [
    "## Required packages\n",
    "library(ggplot2)\n",
    "library(RColorBrewer)\n",
    "library(colorRamps)\n",
    "\n",
    "\n",
    "## You need to expand palette size\n",
    "colourCount = 21 # number of actions\n",
    "getPalette = colorRampPalette(brewer.pal(9, \"Set2\"))\n",
    "long_colors = colorRampPalette(brewer.pal(12, \"Spectral\"))(colourCount)\n",
    "\n",
    "# plot\n",
    "ggplot( MIMIC_MV, aes(total_IV, max_VP, color = as.factor(discrete_action))) + \n",
    "        geom_point() + scale_color_manual(values = long_colors) + \n",
    "        scale_y_log10(limits = c(0.01,10)) + \n",
    "        scale_x_log10(limits = c(0.01,10000), labels = scales::comma) +\n",
    "        ggtitle(\"Fluids (IV) vs Vasopressor dose Quartile bins\") + \n",
    "        theme(legend.position=\"none\") + \n",
    "        labs(subtitle=\"MIMIC Metavision dataset\",y = \"Max VP Dose (ugram/min)\",x = \"Total IV fluid (mL)\",caption=\"X and Y Axis on log10 scale\") "
   ]
  },
  {
   "cell_type": "markdown",
   "metadata": {},
   "source": [
    "# SUBSET SOFA>3"
   ]
  },
  {
   "cell_type": "code",
   "execution_count": null,
   "metadata": {},
   "outputs": [],
   "source": [
    "########################\n",
    "# set working directory\n",
    "setwd(\"/Users/luca/Projects/rl_sepsis/SEPSIS\")\n",
    "#setwd(\"C:/Users/l.roggeveen/SRL/rl_sepsis/SEPSIS/\")\n",
    "#setwd(\"D:/ResearchData/rl_sepsis/SEPSIS\")\n",
    "\n",
    "# load libraries\n",
    "library(tidyverse) # install.packages(\"tidyverse\") # library(devtools) # install_version(\"rlang\", version = \"0.2.2\", repos = \"http://cran.us.r-project.org\")\n",
    "\n",
    "########################\n",
    "# IMPORT DATA\n",
    "data_path <- 'MIMIC_data/'\n",
    "sepsis_df <- read_csv(paste0(data_path, 'sepsis3-df-no-exclusions.csv')) %>% rename(PatientID = icustay_id) %>% select(PatientID, dbsource)\n",
    "#MIMIC_MV <- read_csv('data/MIMIC_MVdata.csv')"
   ]
  },
  {
   "cell_type": "code",
   "execution_count": null,
   "metadata": {},
   "outputs": [],
   "source": [
    "# Apply IV fluid filter\n",
    "sick_MIMIC <- MIMIC_MV %>% group_by(PatientID) %>%\n",
    "                        filter(interval_start_time == max(interval_start_time)) %>%\n",
    "                        summarise(END_total_IV = max(Running_total_IV)) %>%\n",
    "                        filter(END_total_IV > 100) %>%\n",
    "                        filter(END_total_IV < 40000)\n",
    "\n",
    "# Apply SOFA filter\n",
    "sofa_MIMIC <- MIMIC_MV %>% group_by(PatientID) %>%\n",
    "                        summarise(SOFA = mean(Sofa_score, na.rm = TRUE)) %>%\n",
    "                        filter(SOFA>3)\n",
    "\n",
    "# Join filters\n",
    "filt_MIMIC = sofa_MIMIC # sick_MIMIC %>% inner_join(sofa_MIMIC) %>% group_by(PatientID)\n",
    "\n",
    "# inspect filtered dataset\n",
    "length(unique(MIMIC_MV$PatientID))\n",
    "nrow(filt_MIMIC)\n",
    "summary(filt_MIMIC)\n",
    "\n",
    "# apply filters and create new dataset from subset of MIMIC data \n",
    "filt_MIMIC_dataset <- MIMIC_MV %>% filter (PatientID %in% c(filt_MIMIC$PatientID))\n",
    "\n",
    "########################\n",
    "### export data to csv\n",
    "final_data_path = 'data/'\n",
    "write_csv(filt_MIMIC_dataset, paste0(final_data_path, 'MIMIC_MVfilt_data.csv'))\n",
    "\n",
    "sprintf(\"Finished at: %st\", Sys.time())"
   ]
  },
  {
   "cell_type": "code",
   "execution_count": null,
   "metadata": {},
   "outputs": [],
   "source": [
    "## Required packages\n",
    "library(ggplot2)\n",
    "library(RColorBrewer)\n",
    "library(colorRamps)\n",
    "\n",
    "\n",
    "## You need to expand palette size\n",
    "colourCount = 21 # number of actions\n",
    "getPalette = colorRampPalette(brewer.pal(9, \"Set2\"))\n",
    "long_colors = colorRampPalette(brewer.pal(12, \"Spectral\"))(colourCount)\n",
    "\n",
    "# plot\n",
    "ggplot( filt_MIMIC_dataset, aes(total_IV, max_VP, color = as.factor(discrete_action))) + \n",
    "        geom_point() + scale_color_manual(values = long_colors) + \n",
    "        scale_y_log10(limits = c(0.01,10)) + \n",
    "        scale_x_log10(limits = c(0.01,10000), labels = scales::comma) +\n",
    "        ggtitle(\"Fluids (IV) vs Vasopressor dose Quartile bins\") + \n",
    "        theme(legend.position=\"none\") + \n",
    "        labs(subtitle=\"MIMIC Metavision SOFA>3 dataset\",y = \"Max VP Dose (ugram/min)\",x = \"Total IV fluid (mL)\",caption=\"X and Y Axis on log10 scale\") "
   ]
  },
  {
   "cell_type": "markdown",
   "metadata": {},
   "source": [
    "## Reproducability is important"
   ]
  },
  {
   "cell_type": "code",
   "execution_count": null,
   "metadata": {},
   "outputs": [],
   "source": [
    "sessionInfo()"
   ]
  }
 ],
 "metadata": {
  "kernelspec": {
   "display_name": "R",
   "language": "R",
   "name": "ir"
  },
  "language_info": {
   "codemirror_mode": "r",
   "file_extension": ".r",
   "mimetype": "text/x-r-source",
   "name": "R",
   "pygments_lexer": "r",
   "version": "3.6.1"
  }
 },
 "nbformat": 4,
 "nbformat_minor": 4
}
