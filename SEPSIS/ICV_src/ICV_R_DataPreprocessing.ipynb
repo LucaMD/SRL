{
 "cells": [
  {
   "cell_type": "markdown",
   "metadata": {},
   "source": [
    "# Create Cohort and demographics"
   ]
  },
  {
   "cell_type": "code",
   "execution_count": null,
   "metadata": {},
   "outputs": [],
   "source": [
    "########################\n",
    "# set working directory\n",
    "setwd(\"/Users/luca/Projects/rl_sepsis/SEPSIS\")\n",
    "\n",
    "########################\n",
    "# load libraries\n",
    "library(tidyverse) # install.packages(\"tidyverse\")\n",
    "\n",
    "# To know the current storage capacity\n",
    "memory.limit()\n",
    "\n",
    "# To increase the storage capacity (increases storage capacity to 7GB)\n",
    "memory.limit(size=56000)\n",
    "\n",
    "# Path to directory with data files\n",
    "data_path <- 'ICV_data/'\n",
    "\n",
    "########################\n",
    "### Import demographics.csv\n",
    "D <- read.csv(\"ICV_data/demographics.csv\",sep=\",\", header = TRUE)\n",
    "\n",
    "# remove duplicate admissions\n",
    "D <- D[!duplicated(D$PatientID), ]\n",
    "\n",
    "# inspection\n",
    "print(names(D))\n",
    "\n",
    "########################\n",
    "# FULL DATASET\n",
    "FULL <- read_csv(\"ICV_data/admissions.csv\")#,sep=\",\", header = TRUE)\n",
    "\n",
    "# keep selection of columns\n",
    "FULL_columns <- c(\"PatientID\", \"first_SYS_value\", \"first_Temp_value\", \"first_AF_value\", \"first_leuco_value\")\n",
    "FULL_SIRS <- FULL[c(FULL_columns)]\n",
    "\n",
    "# keep selection of rows (PatientID's)\n",
    "D_SIRS <- FULL_SIRS[FULL$PatientID %in% (D$PatientID), ]\n",
    "\n",
    "# check count of patients selected (table: TRUE) out of all patients (nrow(FULL))\n",
    "table(FULL_SIRS$PatientID %in% (D$PatientID))\n",
    "nrow(FULL)\n",
    "\n",
    "### MERGE D_SIRS WITH D\n",
    "D <- merge(D,D_SIRS,by='PatientID')"
   ]
  },
  {
   "cell_type": "code",
   "execution_count": null,
   "metadata": {},
   "outputs": [],
   "source": [
    "#######################\n",
    "### data conversions\n",
    "\n",
    "# nor\n",
    "D$nor_dose <- D$Noradrenaline/D$Weight\n",
    "D$nor_score <- cut(D$nor_dose ,\n",
    "                   breaks=c(-Inf, 0, 0.1, Inf),\n",
    "                   labels=c(0,3,4))\n",
    "\n",
    "# dopa\n",
    "D$dopa_dose <- D$Dopamine/D$Weight\n",
    "D$dopa_score <- cut(D$dopa_dose ,\n",
    "                    breaks=c(-Inf, 5, 15, Inf),\n",
    "                    labels=c(0,3,4))\n",
    "\n",
    "# vaso score (pick heighest of dopa or nor)\n",
    "nor=as.numeric(as.character(D$dopa_score))\n",
    "dopa=as.numeric(as.character(D$nor_score))\n",
    "\n",
    "# replace NA's\n",
    "nor[is.na(nor)] <- 0\n",
    "dopa[is.na(dopa)] <- 0\n",
    "\n",
    "# merge Nor and Dopa to vaso_score\n",
    "D$vaso_score <- ifelse(nor>=dopa, nor, dopa)\n",
    "\n",
    "# Vasopressor score (pick highest value)\n",
    "D$S_Vaso <- as.factor(rep(NA,nrow(D)))\n",
    "levels(D$S_Vaso) <- c(0,1,2,3,4)\n",
    "D$S_Vaso[D$MAP > 70 & D$vaso_score == 0] <- 0\n",
    "D$S_Vaso[D$MAP < 70 & D$vaso_score == 0] <- 1\n",
    "D$S_Vaso[D$vaso_score > 0] <- D$vaso_score\n",
    "\n",
    "\n",
    "########################\n",
    "# Convert Gender to 0/1 (1 is male)\n",
    "D$Gender <- as.character(D$Gender)\n",
    "D$Gender[D$Gender != 'Vrouw' & D$Gender != 'Man'] <- NA\n",
    "D$Gender[D$Gender == 'Man'] <- 1\n",
    "D$Gender[D$Gender == 'Vrouw'] <- 0\n",
    "D$Gender <- as.integer(as.numeric(D$Gender))\n",
    "\n",
    "#######################\n",
    "## impute missing data: USING PMM WITH MICE PACKAGE! -> won't work, just hard coded! (mean of mode)\n",
    "getmode <- function(v) {\n",
    "  uniqv <- unique(v)\n",
    "  uniqv[which.max(tabulate(match(v, uniqv)))]\n",
    "}\n",
    "for (var in 2:ncol(D)) {\n",
    "  if (class(D[,var])==\"numeric\") {\n",
    "    D[is.na(D[,var]),var] <- mean(D[,var], na.rm = TRUE)\n",
    "  } else if (class(D[,var]) %in% c(\"character\", \"factor\")) {\n",
    "    D[is.na(D[,var]),var] <- getmode(D[ ,var])\n",
    "  }\n",
    "}\n",
    "\n",
    "# check after imputation\n",
    "print(head(D))\n",
    "\n",
    "# Gender get's a second imputation turn, it's stubborn\n",
    "D$Gender[is.na(D$Gender)] <- 1\n",
    "\n",
    "########################################################################################################################\n",
    "### Calculate SOFA score from components at admission to the ICU\n",
    "\n",
    "# add Ventilation level yes (only relevant for test dataset but still can't hurt to be complete)\n",
    "levels(D$Ventilation) <- c(levels(D$Ventilation),'YES')\n",
    "# Bilirubine\n",
    "D$S_BILI <- cut(D$BILI ,\n",
    "                breaks=c(-Inf, 19, 32, 101, 204, Inf),\n",
    "                labels=c(0,1,2,3,4))\n",
    "\n",
    "# EMV\n",
    "D$GCS <- D$E + D$M + D$v\n",
    "D$S_GCS <- cut(D$GCS ,\n",
    "               breaks=c(-Inf, 5, 9, 12, 14, Inf),\n",
    "               labels=c(4,3,2,1,0))\n",
    "\n",
    "# Trombo's\n",
    "D$S_trombo <- cut(D$TROMBO ,\n",
    "                  breaks=c(-Inf, 19, 49, 99, 149, Inf),\n",
    "                  labels=c(4,3,2,1,0))\n",
    "\n",
    "### P/F ratio SOFA SCORE\n",
    "D$PaO2_mmhg <- D$PaO2_kpa *  7.50061683 # convert kpa to mmhg\n",
    "D$PaO2_mmhg[is.na(D$PaO2_mmhg)] <- 1000 # recode NA's to absurdly high number so it won't be picked as the \"lowest value\"\n",
    "\n",
    "# pick the lowest value from either PaO2 (mmhg) or Pao2_mmhg (kpa converted to mmhg)\n",
    "D$PO2 <- pmin( D[,14], D[,29]) # CREATE NEW COLUMN WITH LOWEST VALUE OF TWO COLUMNS\n",
    "# calc P/F ratio\n",
    "D$PF <- D$PO2/(D$FiO2/100)\n",
    "\n",
    "# create P/F score (up to 2 points if P/F < 300)\n",
    "D$S_PF <- cut(D$PO2/(D$FiO2/100),\n",
    "               breaks=c(-Inf, 299, 400, Inf),\n",
    "               labels=c(2,1,0))\n",
    "levels(D$S_PF) <- c(levels(D$S_PF),3,4)\n",
    "# add points 3 and 4 if patient is also mechanically ventilated\n",
    "D$S_PF[D$PF < 200 & D$Ventilation == 'YES'] <- 3\n",
    "D$S_PF[D$PF < 100 & D$Ventilation == 'YES'] <- 4\n",
    "\n",
    "# Kidney score\n",
    "D$S_creat <- cut(D$CREAT ,\n",
    "                 breaks=c(-Inf, 109, 170, 299, 440, Inf),\n",
    "                 labels=c(0,1,2,3,4))\n",
    "D$S_UP <- cut(D$urine_first_24Hours ,\n",
    "              breaks=c(-Inf, 199, 499, Inf),\n",
    "              labels=c(4,3,0))\n",
    "D$S_kidney <- as.factor(rep(NA,nrow(D)))\n",
    "levels(D$S_kidney) <- c(0,1,2,3,4)\n",
    "D$S_kidney[D$S_UP == 0 & D$S_creat == 0] <- 0\n",
    "D$S_kidney[D$S_UP == 0 & D$S_creat == 1] <- 1\n",
    "D$S_kidney[D$S_UP == 0 & D$S_creat == 2] <- 2\n",
    "D$S_kidney[D$S_UP == 3 | D$S_creat == 3] <- 3 # UP: 3 OR creat: 3\n",
    "D$S_kidney[D$S_UP == 4 | D$S_creat == 4] <- 4 # UP: 4 OR creat: 4\n",
    "\n",
    "# final sofa score\n",
    "D$SOFA <- as.numeric(as.character(D$S_BILI)) + as.numeric(as.character(D$S_kidney)) + as.numeric(as.character(D$S_GCS)) + as.numeric(as.character(D$S_trombo)) + as.numeric(as.character(D$S_Vaso)) + as.numeric(as.character(D$S_PF))\n",
    "\n",
    "########################################################################################################################\n",
    "### Calculate qSOFA components (qSOFA GCS not possible, data not adequatly available)\n",
    "\n",
    "# qSOFA ventilation score\n",
    "D$qsofa_vent <- as.factor(rep(NA,nrow(D)))\n",
    "levels(D$qsofa_vent) <- c(0,1)\n",
    "D$qsofa_vent[D$first_AF_value > 21] <- 1\n",
    "D$qsofa_vent[D$first_AF_value < 22] <- 0\n",
    "D$qsofa_vent <- as.numeric(as.character(D$qsofa_vent))\n",
    "\n",
    "# qSOFA systolic blood pressure score\n",
    "D$qsofa_sysbp <- as.factor(rep(NA,nrow(D)))\n",
    "levels(D$qsofa_sysbp) <- c(0,1)\n",
    "D$qsofa_sysbp[D$first_SYS_value/133.3224 < 100] <- 1\n",
    "D$qsofa_sysbp[D$first_SYS_value/133.3224 > 100] <- 0\n",
    "D$qsofa_sysbp <- as.numeric(as.character(D$qsofa_sysbp))\n",
    "\n",
    "########################################################################################################################\n",
    "### Calculate SIRS components + final score\n",
    "\n",
    "# SIRS TEMP\n",
    "D$sirs_temp <- as.factor(rep(NA,nrow(D)))\n",
    "levels(D$sirs_temp) <- c(0,1)\n",
    "D$temp <- (D$first_Temp_value - 32)/1.8 \n",
    "D$sirs_temp <- as.factor(as.integer((D$temp > 39 | D$temp < 36)))\n",
    "levels(D$sirs_temp) <- c(0,1)\n",
    "\n",
    "# SIRS Heartfrequency\n",
    "D$sirs_hf <- as.factor(rep(NA,nrow(D)))\n",
    "levels(D$sirs_hf) <- c(0,1)\n",
    "D$sirs_hf <- as.factor(as.integer(D$first_hf_value > 90))\n",
    "levels(D$sirs_hf) <- c(0,1)\n",
    "\n",
    "# SIRS Respiratory\n",
    "D$sirs_resp <- as.factor(rep(NA,nrow(D)))\n",
    "levels(D$sirs_resp) <- c(0,1)\n",
    "D$sirs_resp <- as.factor(as.integer(D$first_AF_value > 20))\n",
    "levels(D$sirs_resp) <- c(0,1)\n",
    "\n",
    "# SIRS Leucocytes\n",
    "D$leuco <- D$first_leuco_value / 1000000\n",
    "D$sirs_leuco <- as.factor(rep(NA,nrow(D)))\n",
    "levels(D$sirs_leuco) <- c(0,1)\n",
    "D$sirs_leuco <- as.factor(as.integer((D$leuco > 12 | D$leuco < 4)))\n",
    "levels(D$sirs_leuco) <- c(0,1)\n",
    "\n",
    "# final SIRS score\n",
    "D$SIRS <- as.numeric(as.character(D$sirs_temp)) + as.numeric(as.character(D$sirs_hf)) + as.numeric(as.character(D$sirs_resp)) + as.numeric(as.character(D$sirs_leuco))\n",
    "\n",
    "print(\"Finished Demographics\")"
   ]
  },
  {
   "cell_type": "markdown",
   "metadata": {},
   "source": [
    "### SAVE cohort and demographics dataframes"
   ]
  },
  {
   "cell_type": "code",
   "execution_count": null,
   "metadata": {},
   "outputs": [],
   "source": [
    "########################################################################################################################\n",
    "### Create final demographics.csv subset\n",
    "demographics_vars <- c(\"PatientID\", \"Age\", \"Gender\", \"Lengte\", \"Weight\", \"GCS\", \"SOFA\", \"qsofa_vent\", \"qsofa_sysbp\", \"SIRS\", \"Ventilation\")\n",
    "demographics <- D[c(demographics_vars)]\n",
    "head(demographics)\n",
    "\n",
    "########################\n",
    "# WRITE DATA\n",
    "write.csv(demographics, file = \"ICV_data/demographics_df.csv\", row.names = FALSE)\n",
    "\n",
    "########################################################################################################################\n",
    "### Create cohort.csv\n",
    "\n",
    "### Import all ICU addmissions with Inclusion SQL criteria applied\n",
    "Admissions <- read.csv(\"ICV_data/admissions_df.csv\",sep=\",\", header = TRUE)\n",
    "\n",
    "### keep Discharge variable from demographics\n",
    "cohort_vars <- c(\"PatientID\", \"Discharge\")\n",
    "cohort <- D[c(cohort_vars)]\n",
    "\n",
    "### merge demographics with admissions\n",
    "cohort_df <- merge(Admissions, cohort, by=c(\"PatientID\"))\n",
    "cohort_df$Discharge <- as.character(cohort_df$Discharge)\n",
    "cohort_df$Discharge[cohort_df$Discharge == \"DEAD\"] <- 1\n",
    "cohort_df$Discharge[cohort_df$Discharge == \"ALIVE\"] <- 0\n",
    "cohort_df$Discharge <- as.numeric(cohort_df$Discharge)\n",
    "\n",
    "### WRITE DATA\n",
    "write.csv(cohort_df, file = \"ICV_data/cohort_df.csv\", row.names = FALSE)"
   ]
  },
  {
   "cell_type": "markdown",
   "metadata": {},
   "source": [
    "# Create data from Chunks directories"
   ]
  },
  {
   "cell_type": "code",
   "execution_count": null,
   "metadata": {},
   "outputs": [],
   "source": [
    "########################\n",
    "# load libraries\n",
    "library(tidyverse) # install.packages(\"tidyverse\")\n",
    "library(\"readr\")\n",
    "\n",
    "# To know the current storage capacity\n",
    "memory.limit()\n",
    "\n",
    "# To increase the storage capacity (increases storage capacity to 7GB)\n",
    "memory.limit(size=56000)\n",
    "\n",
    "########################################################################################################################\n",
    "### Chunk to FULL files\n",
    "\n",
    "# set paths\n",
    "data_path <- 'ICV_data/'\n",
    "chunk_path <- 'ICV_data/chunks'\n",
    "\n",
    "# loop through chunks\n",
    "chunk_dir <- list.dirs(chunk_path,recursive = FALSE)\n",
    "chunk_dir_list <- paste0(chunk_dir)\n",
    "#chunk_dir_list[2]"
   ]
  },
  {
   "cell_type": "code",
   "execution_count": null,
   "metadata": {},
   "outputs": [],
   "source": [
    "# for each directory (fluids, vitals, labs, vasopressors):\n",
    "for (chunk in chunk_dir_list[4]){                           # add [1] for fluid chunks, add [2] for labs, add [3] for vasopressors, add [4] for vitals\n",
    "  path_dir <- list.files(chunk)\n",
    "  path_list <- paste0(chunk, \"/\",path_dir)\n",
    "  i = 0\n",
    " \n",
    "  # for each path in the subset directory:\n",
    "  for (path in path_list) { \n",
    "    print(path)\n",
    "    i = i + 1\n",
    "    if (i == 1) {\n",
    "      the_df <- read_csv(path) \n",
    "      results_df <- the_df \n",
    "      print(\"CHUNK done\")\n",
    "        \n",
    "    } else {\n",
    "      the_df <- read_csv(path) \n",
    "      results_df <- rbind(results_df, the_df)\n",
    "      print(\"CHUNK done\")\n",
    "    }\n",
    "  } # end of (for path in path_list)\n",
    "  \n",
    "  # save to csv\n",
    "  filename = strsplit(path,split='/', fixed=TRUE)[[1]][3] # the third directory is the filename\n",
    "  write_csv(results_df, path = paste0(data_path,filename, \".csv\"))\n",
    "  print('CSV DONE')\n",
    "} # end of (for chunk in chunk_dir_list)\n",
    "\n",
    "### finish up\n",
    "print(\"ALL done\")"
   ]
  },
  {
   "cell_type": "markdown",
   "metadata": {},
   "source": [
    "## Full DATA ACQUIRED\n",
    "    \n",
    "# START OF DATA PREPROCESSING"
   ]
  },
  {
   "cell_type": "code",
   "execution_count": null,
   "metadata": {},
   "outputs": [],
   "source": [
    "########################\n",
    "# load libraries\n",
    "library(tidyverse) # install.packages(\"tidyverse\")\n",
    "\n",
    "# To know the current storage capacity\n",
    "memory.limit()\n",
    "\n",
    "# To increase the storage capacity (increases storage capacity to 7GB)\n",
    "memory.limit(size=56000)\n",
    "\n",
    "# Path to directory with data files\n",
    "data_path <- 'ICV_data/'\n",
    "\n",
    "sprintf(\"Finished at: %st\", Sys.time())"
   ]
  },
  {
   "cell_type": "markdown",
   "metadata": {},
   "source": [
    "# Cohort Interval Times"
   ]
  },
  {
   "cell_type": "code",
   "execution_count": null,
   "metadata": {},
   "outputs": [],
   "source": [
    "########################\n",
    "### Import COHORT\n",
    "D <- read_csv(paste0(data_path, 'admissions_df.csv'))#,sep=\",\", header = TRUE)\n",
    "\n",
    "# cleanup\n",
    "D$start_time <- as.POSIXct(strptime(x = as.character(D$start_time), format = \"%Y-%m-%d %H:%M:%S\"))\n",
    "D$end_time <- as.POSIXct(strptime(x = as.character(D$end_time), format = \"%Y-%m-%d %H:%M:%S\"))\n",
    "\n",
    "# keep only correct cases\n",
    "D <- na.omit(D)\n",
    "D <- D[(D$end_time > D$start_time), ]\n",
    "\n",
    "# keep only cases where datediff begin to end time > 8h\n",
    "D <- D[((D$end_time - D$start_time) > 8), ]\n",
    "\n",
    "########################\n",
    "# DATA TRANSFORMATIONS (from cohort to interval dataframe)\n",
    "get_time_intervals <- function(start, end) {\n",
    "  interval_times <- seq(start, end, by = '4 hour')\n",
    "  interval_start_time <- interval_times[1:length(interval_times) -1]\n",
    "  interval_end_time <- interval_times[2:length(interval_times)]\n",
    "  return(data.frame(interval_start_time, interval_end_time))\n",
    "}\n",
    "interval_times_df <- D %>%\n",
    "  group_by(PatientID) %>%\n",
    "  do(get_time_intervals(.$start_time, .$end_time))\n",
    "dim(interval_times_df)\n",
    "\n",
    "########################\n",
    "# WRITE DATA\n",
    "#write_csv(interval_times_df, paste0(data_path, 'interval_times_df.csv'))\n",
    "write.csv(interval_times_df, file = \"ICV_data/interval_times_df.csv\", row.names = FALSE)\n",
    "\n",
    "sprintf(\"Finished at: %st\", Sys.time())"
   ]
  },
  {
   "cell_type": "markdown",
   "metadata": {},
   "source": [
    "# Vasopressors"
   ]
  },
  {
   "cell_type": "code",
   "execution_count": null,
   "metadata": {},
   "outputs": [],
   "source": [
    "########################################################################################################################\n",
    "# START WITH WEIGHT AND INTERVAL TIMES\n",
    "interval_times_df <- read_csv(paste0(data_path, 'interval_times_df.csv'))\n",
    "weight_df <- read_csv(paste0(data_path, 'Weight.csv'))\n",
    "mean_weight = mean(weight_df)\n",
    "weight_df$Weight[weight_df$Weight<40] = 40\n",
    "weight_df$Weight[weight_df$Weight>200] = 200"
   ]
  },
  {
   "cell_type": "code",
   "execution_count": null,
   "metadata": {},
   "outputs": [],
   "source": [
    "# LOAD Vasopressor\n",
    "vassopressor_mv_df <- read_csv(paste0(data_path, 'Vasopressor.csv'))\n",
    "names(vassopressor_mv_df)[1] <- \"PatientID\"\n",
    "vassopressor_mv_df <- vassopressor_mv_df %>% left_join(weight_df, by = \"PatientID\") %>% replace_na(list(Weight = mean_weight)) %>% mutate(mcgkgmin=mcgmin/Weight) # from g/minute to mcg/kg/min\n",
    "head(vassopressor_mv_df)\n",
    "nrow(vassopressor_mv_df)"
   ]
  },
  {
   "cell_type": "code",
   "execution_count": null,
   "metadata": {},
   "outputs": [],
   "source": [
    "# Create max of vasopressor dose over interval times\n",
    "max_vassopressor_mv <- interval_times_df %>%\n",
    "  left_join(vassopressor_mv_df) %>%\n",
    "  group_by(PatientID,\n",
    "           interval_start_time,\n",
    "           interval_end_time) %>%\n",
    "  filter((EndTime > interval_start_time & EndTime <= interval_end_time) | (StartTime > interval_start_time & StartTime < interval_end_time)) %>%\n",
    "  summarise(max_amount = max(mcgkgmin)) %>% \n",
    "  replace_na(list(max_amount = 0)) %>% mutate(max_amount = case_when(max_amount > 1e-02 ~ max_amount, TRUE ~ 0))\n",
    "\n",
    "# Visual check\n",
    "head(max_vassopressor_mv)\n",
    "nrow(max_vassopressor_mv)\n",
    "sprintf(\"Finished at: %st\", Sys.time())"
   ]
  },
  {
   "cell_type": "markdown",
   "metadata": {},
   "source": [
    "## Vasopressor: MIMIC vs ICV\n",
    "#### CREATE VP ACTIONS\n",
    "    ### MIMIC: \n",
    "    max_vassopressor_mv$discrete_VP <- as.integer(cut(max_vassopressor_mv$max_amount, breaks = c(-Inf, 0, 0.07411527, 0.200000, 0.4500000, Inf)))-1 \n",
    "    unique(max_vassopressor_mv$discrete_VP)\n",
    "        # action 0 == dose=0\n",
    "        # action 1 == 0>dose<0.074\n",
    "        # action 2 == 0.074<dose<0.2\n",
    "        # action 3 == 0.2<dose<0.45\n",
    "        # action 4 == dose>0.45"
   ]
  },
  {
   "cell_type": "code",
   "execution_count": null,
   "metadata": {},
   "outputs": [],
   "source": [
    "# A function to map the data to quartiles\n",
    "num2quartile <- function(x) {\n",
    "  #     x <- x[is.na(x)]\n",
    "  quants <- quantile(x, probs=0:4/4, na.rm = TRUE)\n",
    "  print(round(quants,5))\n",
    "  return(as.integer(cut(x, quants, include.lowest=TRUE)))\n",
    "}\n",
    "ICV_VP_Quantiles = num2quartile(max_vassopressor_mv$max_amount)"
   ]
  },
  {
   "cell_type": "markdown",
   "metadata": {},
   "source": [
    "#### MV ONLY MIMIC DATA - VASOPRESSOR QUANTILES --> Perform manual cut on ICV DATA\n",
    "                  0%          25%          50%          75%         100% \n",
    "            0.00200       0.11016      0.22509      0.45035    222.73125 "
   ]
  },
  {
   "cell_type": "code",
   "execution_count": null,
   "metadata": {},
   "outputs": [],
   "source": [
    "### ICV\n",
    "table(as.integer(cut(max_vassopressor_mv$max_amount, breaks = c(-Inf, 0, 0.10771, 0.24242, 0.57143, Inf)))-1 )\n",
    "\n",
    "### MIMIC\n",
    "table(as.integer(cut(max_vassopressor_mv$max_amount, breaks = c(-Inf, 0, 0.11016, 0.22509, 0.45035, Inf)))-1 )"
   ]
  },
  {
   "cell_type": "code",
   "execution_count": null,
   "metadata": {},
   "outputs": [],
   "source": [
    "# merge vasopressor with interval_times (essentialy adds empty interval times that were left out in the initial max_vasopressor_mv join)\n",
    "action_df_VP <- max_vassopressor_mv %>% right_join(interval_times_df) %>% group_by(PatientID, interval_start_time, interval_end_time) %>% summarise(max_amount = max(max_amount)) \n",
    "\n",
    "### add action MIMIC\n",
    "action_df_VP$discrete_VP <- as.integer(cut(action_df_VP$max_amount, breaks = c(-Inf, 0, 0.11016, 0.22509, 0.45035, Inf)))-1\n",
    "\n",
    "# Change NA to zero's\n",
    "action_df_VP$max_amount[is.na(action_df_VP$max_amount)] <- 0\n",
    "action_df_VP$discrete_VP[is.na(action_df_VP$discrete_VP)] <- 0\n",
    "\n",
    "# Visual inspection\n",
    "head(action_df_VP)\n",
    "nrow(action_df_VP)\n",
    "table(action_df_VP$discrete_VP)"
   ]
  },
  {
   "cell_type": "markdown",
   "metadata": {},
   "source": [
    "# Import FLuids"
   ]
  },
  {
   "cell_type": "code",
   "execution_count": null,
   "metadata": {},
   "outputs": [],
   "source": [
    "########################\n",
    "# load libraries\n",
    "library(tidyverse) # install.packages(\"tidyverse\")\n",
    "\n",
    "# To increase the storage capacity (increases storage capacity to 7GB)\n",
    "memory.limit(size=56000)\n",
    "\n",
    "# data.table improves performance\n",
    "library(data.table)\n",
    "\n",
    "# Path to directory with data files\n",
    "data_path <- 'ICV_data/'\n",
    "\n",
    "########################################################################################################################\n",
    "# IMPORT FLUID RELATED DATA\n",
    "interval_times_df <- read_csv(paste0(data_path, 'interval_times_df.csv'))\n",
    "fluids_df <- read_csv(paste0(data_path, 'Fluids.csv'))\n",
    "\n",
    "# clean names\n",
    "names(fluids_df)[1] <- \"PatientID\"\n",
    "names(fluids_df)"
   ]
  },
  {
   "cell_type": "code",
   "execution_count": null,
   "metadata": {},
   "outputs": [],
   "source": [
    "fluids_dt <- as.data.table(fluids_df, key = 'PatientID') %>% filter(FullDose > 0 & FullDose < 5000)\n",
    "interval_times_dt <- as.data.table(interval_times_df, key = 'PatientID')"
   ]
  },
  {
   "cell_type": "markdown",
   "metadata": {},
   "source": [
    "# Process IV fluids"
   ]
  },
  {
   "cell_type": "markdown",
   "metadata": {},
   "source": [
    "### 1. IV dose started before interval and ended after interval"
   ]
  },
  {
   "cell_type": "code",
   "execution_count": null,
   "metadata": {},
   "outputs": [],
   "source": [
    "total_IV_during <- interval_times_dt %>% left_join(fluids_dt, allow.cartesian = TRUE) %>% group_by(PatientID, interval_start_time, interval_end_time) %>%\n",
    "                   filter(StartTime < interval_start_time & EndTime > interval_end_time) %>% summarise(total_amount_during = sum(DosePerMinute*60*4))\n",
    "all_IV_during <- total_IV_during %>% rename(total_amount = total_amount_during)\n",
    "nrow(all_IV_during)"
   ]
  },
  {
   "cell_type": "markdown",
   "metadata": {},
   "source": [
    "### 2. IV dose started before and ended within interval"
   ]
  },
  {
   "cell_type": "code",
   "execution_count": null,
   "metadata": {},
   "outputs": [],
   "source": [
    "# IV dose started before interval and ended within interval\n",
    "total_IV_before <- interval_times_dt %>% left_join(fluids_dt, allow.cartesian = TRUE) %>% group_by(PatientID, interval_start_time, interval_end_time) %>%\n",
    "                   filter(FullDose > 0 & StartTime < interval_start_time & EndTime <= interval_end_time & EndTime > interval_start_time)\n",
    "all_IV_before <- total_IV_before %>% mutate(total_amount_before = round(as.numeric(difftime(EndTime, interval_start_time, units='mins'))*DosePerMinute,3))\n",
    "all_IV_before <- all_IV_before %>% select(PatientID, interval_start_time, interval_end_time, total_amount_before) %>% group_by(PatientID, interval_start_time,interval_end_time) %>% summarise(total_amount = sum(total_amount_before))\n",
    "nrow(all_IV_before)"
   ]
  },
  {
   "cell_type": "markdown",
   "metadata": {},
   "source": [
    "### 3. IV dose started within interval and ended within interval"
   ]
  },
  {
   "cell_type": "code",
   "execution_count": null,
   "metadata": {},
   "outputs": [],
   "source": [
    "# IV dose started within the interval and ended within the interval\n",
    "all_IV_within <- interval_times_dt %>% left_join(fluids_dt, allow.cartesian = TRUE) %>% group_by(PatientID, interval_start_time, interval_end_time) %>%\n",
    "                   filter(FullDose > 0 & StartTime >= interval_start_time & StartTime < interval_end_time & EndTime <= interval_end_time & EndTime > interval_start_time) %>% summarise(total_amount = sum(FullDose))\n",
    "nrow(all_IV_within)"
   ]
  },
  {
   "cell_type": "markdown",
   "metadata": {},
   "source": [
    "### 4. IV Dose started within interval and ended after interval"
   ]
  },
  {
   "cell_type": "code",
   "execution_count": null,
   "metadata": {},
   "outputs": [],
   "source": [
    "# IV dose started within interval and ended after interval\n",
    "total_IV_after <- interval_times_dt %>% left_join(fluids_dt, allow.cartesian = TRUE) %>% group_by(PatientID, interval_start_time, interval_end_time) %>%\n",
    "                   filter(StartTime > interval_start_time & StartTime < interval_end_time & EndTime > interval_end_time) \n",
    "all_IV_after <- total_IV_after %>% mutate(total_amount_after = round((as.numeric(difftime(interval_end_time, StartTime, units='mins'))/DurationMinutes)*DosePerMinute,3))\n",
    "all_IV_after <- all_IV_after %>% select(PatientID, interval_start_time, interval_end_time, total_amount_after) %>% \n",
    "                                 group_by(PatientID, interval_start_time,interval_end_time) %>% \n",
    "                                 summarise(total_amount = sum(total_amount_after))\n",
    "nrow(all_IV_after)"
   ]
  },
  {
   "cell_type": "code",
   "execution_count": null,
   "metadata": {},
   "outputs": [],
   "source": [
    "summary(all_IV_before$total_amount)\n",
    "summary(all_IV_within$total_amount)\n",
    "summary(all_IV_after$total_amount)\n",
    "summary(all_IV_during$total_amount)"
   ]
  },
  {
   "cell_type": "markdown",
   "metadata": {},
   "source": [
    "### 5. Join all IV tables"
   ]
  },
  {
   "cell_type": "code",
   "execution_count": null,
   "metadata": {},
   "outputs": [],
   "source": [
    "# full join all IV tables\n",
    "total_IV <- all_IV_during %>% full_join(all_IV_before) %>% \n",
    "                                full_join(all_IV_within) %>% \n",
    "                                full_join(all_IV_after) %>% \n",
    "                                group_by(PatientID, interval_start_time, interval_end_time) %>%\n",
    "                                summarise(total_amount = sum(total_amount))\n",
    "head(total_IV)\n",
    "nrow(total_IV)\n",
    "sprintf(\"Finished at: %st\", Sys.time())"
   ]
  },
  {
   "cell_type": "markdown",
   "metadata": {},
   "source": [
    "### 6. RIGHT JOIN with INTERVAL TIMES and replace NA fluid dose with zero fluid dose"
   ]
  },
  {
   "cell_type": "code",
   "execution_count": null,
   "metadata": {},
   "outputs": [],
   "source": [
    "# no fluid signals = zero fluid dose given\n",
    "total_IV_mv <- total_IV %>% right_join(interval_times_df) %>% group_by(PatientID, interval_start_time, interval_end_time) %>% replace_na(list(total_amount = 0))\n",
    "head(total_IV_mv)\n",
    "nrow(total_IV_mv)"
   ]
  },
  {
   "cell_type": "markdown",
   "metadata": {},
   "source": [
    "## 7. Plot the dose per interval distribution"
   ]
  },
  {
   "cell_type": "code",
   "execution_count": null,
   "metadata": {},
   "outputs": [],
   "source": [
    "# visual inspection of total amount of fluids given to each patient within the min/max time_interval\n",
    "hist(total_IV$total_amount, xlim = c(0,5000),breaks=100)"
   ]
  },
  {
   "cell_type": "markdown",
   "metadata": {},
   "source": [
    "## Fluid ACTION SPACE: MIMIC vs ICV\n",
    "#### Create action_df_IV\n",
    "    ### MIMIC:\n",
    "    # total_IV_mv$discrete_IV <- as.integer(cut(total_IV_mv$total_amount, breaks = c(-Inf, 0, 215, 474, 1000, Inf)))-1 "
   ]
  },
  {
   "cell_type": "code",
   "execution_count": null,
   "metadata": {},
   "outputs": [],
   "source": [
    "# A function to map the data to quartiles\n",
    "num2quartile <- function(x) {\n",
    "  #     x <- x[is.na(x)]\n",
    "  quants <- quantile(x, probs=0:4/4, na.rm = TRUE)\n",
    "  print(round(quants,5))\n",
    "  return(as.integer(cut(x, quants, include.lowest=TRUE)))\n",
    "}\n",
    "ICV_fluid_Quantiles = num2quartile(total_IV$total_amount)"
   ]
  },
  {
   "cell_type": "code",
   "execution_count": null,
   "metadata": {},
   "outputs": [],
   "source": [
    "### ICV\n",
    "table(as.integer(cut(total_IV$total_amount, breaks = c(-Inf, 0, 266.5781, 463.2597, 812.0620, Inf)))-1 )\n",
    "\n",
    "### MIMIC\n",
    "table(as.integer(cut(total_IV$total_amount, breaks = c(-Inf, 0, 39.83359, 204.40254, 635.20516, Inf)))-1 )"
   ]
  },
  {
   "cell_type": "markdown",
   "metadata": {},
   "source": [
    "### MV only MIMIC DATA - IV FLUID QUANTILES --> Perform manual cut on ICV DATA:\n",
    "         0%         25%         50%         75%        100% \n",
    "    0.00000    39.83359   204.40254   635.20516 24852.55100 "
   ]
  },
  {
   "cell_type": "code",
   "execution_count": null,
   "metadata": {},
   "outputs": [],
   "source": [
    "# MIMIC BREAKS:\n",
    "total_IV_mv$discrete_IV <- as.integer(cut(total_IV_mv$total_amount, breaks = c(-Inf, 0, 39.83359, 204.40254, 635.20516, Inf)))-1 \n",
    "\n",
    "# merge vasopressor with interval_times (essentialy adds empty interval times that were left out in the initial max_vasopressor_mv join)\n",
    "action_df_IV <- total_IV_mv %>% right_join(interval_times_df)\n",
    "\n",
    "# Change NA to zero's\n",
    "action_df_IV$total_amount[is.na(action_df_IV$total_amount)] <- 0\n",
    "action_df_IV$discrete_IV[is.na(action_df_IV$discrete_IV)] <- 0"
   ]
  },
  {
   "cell_type": "markdown",
   "metadata": {},
   "source": [
    "# CREATE ACTION SPACE"
   ]
  },
  {
   "cell_type": "code",
   "execution_count": null,
   "metadata": {},
   "outputs": [],
   "source": [
    "# check first:\n",
    "table(action_df_IV$discrete_IV)\n",
    "table(action_df_VP$discrete_VP)"
   ]
  },
  {
   "cell_type": "markdown",
   "metadata": {},
   "source": [
    "### Merge VP and IV dataframes"
   ]
  },
  {
   "cell_type": "code",
   "execution_count": null,
   "metadata": {},
   "outputs": [],
   "source": [
    "########################################################################################################################\n",
    "### MERGE DATA\n",
    "action_df <- action_df_IV %>% full_join(action_df_VP) #%>% group_by(PatientID, interval_start_time, interval_end_time)\n",
    "head(action_df)\n",
    "nrow(action_df)"
   ]
  },
  {
   "cell_type": "markdown",
   "metadata": {},
   "source": [
    "## Create final actions\n",
    "\n",
    "    AS in MIMIC: action_df <- action_df %>% mutate(discrete_action = discrete_IV + 5 * discrete_pressor)"
   ]
  },
  {
   "cell_type": "code",
   "execution_count": null,
   "metadata": {},
   "outputs": [],
   "source": [
    "# Get the final state as discrete_IV + 5 * discrete_VP\n",
    "action_df <- action_df %>% mutate(discrete_action = as.numeric(discrete_IV) + 5 * as.numeric(discrete_VP))\n",
    "action_df <- action_df %>% rename(total_IV = total_amount, max_VP = max_amount)\n",
    "sprintf(\"Finished at: %st\", Sys.time())"
   ]
  },
  {
   "cell_type": "markdown",
   "metadata": {},
   "source": [
    "# Add Fluid running total"
   ]
  },
  {
   "cell_type": "code",
   "execution_count": null,
   "metadata": {},
   "outputs": [],
   "source": [
    "# Add running total\n",
    "action_df <- action_df %>% group_by(PatientID) %>% arrange(PatientID, interval_start_time, interval_end_time) %>% mutate(Running_total_IV = cumsum(total_IV))"
   ]
  },
  {
   "cell_type": "code",
   "execution_count": null,
   "metadata": {},
   "outputs": [],
   "source": [
    "### table FINAL ACTION\n",
    "table(action_df$discrete_action)\n",
    "head(action_df)"
   ]
  },
  {
   "cell_type": "code",
   "execution_count": null,
   "metadata": {},
   "outputs": [],
   "source": [
    "print(\"amount of unique actions:\")\n",
    "print(as.character(length(unique(action_df$discrete_action))))"
   ]
  },
  {
   "cell_type": "code",
   "execution_count": null,
   "metadata": {},
   "outputs": [],
   "source": [
    "########################\n",
    "# WRITE DATA\n",
    "write.csv(action_df, file = \"ICV_data/action_df.csv\", row.names = FALSE)"
   ]
  },
  {
   "cell_type": "markdown",
   "metadata": {},
   "source": [
    "# Visually inspect final action space"
   ]
  },
  {
   "cell_type": "code",
   "execution_count": null,
   "metadata": {},
   "outputs": [],
   "source": [
    "ggplot(action_df, aes(total_IV, max_VP, color = as.factor(discrete_action))) + \n",
    "  geom_point() + scale_y_log10() + scale_x_log10() + xlab('Total IV fluid (mL)') + ylab('Max VP Dose')"
   ]
  },
  {
   "cell_type": "markdown",
   "metadata": {},
   "source": [
    "# labs and Vitals"
   ]
  },
  {
   "cell_type": "code",
   "execution_count": null,
   "metadata": {},
   "outputs": [],
   "source": [
    "########################\n",
    "# load libraries\n",
    "library(tidyverse) # install.packages(\"tidyverse\")\n",
    "library(data.table)  # install.packages(\"data.table\")\n",
    "\n",
    "# To know the current storage capacity\n",
    "memory.limit()\n",
    "\n",
    "# To increase the storage capacity (increases storage capacity to >>>7GB)\n",
    "memory.limit(size=99000)\n",
    "\n",
    "# Path to directory with data files\n",
    "data_path <- 'ICV_data/'\n",
    "\n",
    "########################\n",
    "### import cohort and time series\n",
    "cohort_df <- read_csv(paste0(data_path, 'admissions_df.csv'))\n",
    "interval_times_df <- read_csv(paste0(data_path, 'interval_times_df.csv'))\n",
    "interval_times_dt <- as.data.table(interval_times_df, key = 'PatientID')"
   ]
  },
  {
   "cell_type": "markdown",
   "metadata": {},
   "source": [
    "## Import vitals"
   ]
  },
  {
   "cell_type": "code",
   "execution_count": null,
   "metadata": {},
   "outputs": [],
   "source": [
    "### import vitals data\n",
    "vitals_df <- read_csv(paste0(data_path, 'vitals.csv'))\n",
    "\n",
    "# subset\n",
    "keep <- c(\"PatientID\", \"Time\", \"Parameter\", \"Value\")\n",
    "vitals_df <- vitals_df[c(keep)]\n",
    "\n",
    "# Cast to DT\n",
    "vitals_dt <- as.data.table(vitals_df, key = 'PatientID') # add filter with mutation: all SPO2 values < 1 -> *100!\n",
    "\n",
    "# clear up memory\n",
    "rm(vitals_df)\n",
    "sprintf(\"Finished at: %st\", Sys.time())"
   ]
  },
  {
   "cell_type": "markdown",
   "metadata": {},
   "source": [
    "## Clean up Vitals"
   ]
  },
  {
   "cell_type": "code",
   "execution_count": null,
   "metadata": {},
   "outputs": [],
   "source": [
    "vitals_dt %>% group_by(Parameter) %>% summarize(mean=mean(Value), min=min(Value), max=max(Value), var=var(Value))"
   ]
  },
  {
   "cell_type": "code",
   "execution_count": null,
   "metadata": {},
   "outputs": [],
   "source": [
    "# Cleanup\n",
    "vitals_dt = vitals_dt %>% mutate(Value = case_when(Parameter == 'AF' & Value < 5 ~ -1,\n",
    "                                                   Parameter == 'AF' & Value > 450 ~ -1,\n",
    "                                                   Parameter == 'AF' & Value > 150 & Value < 450 ~ Value/10,\n",
    "                                                   Parameter == 'AF' & Value > 45 ~ -1,\n",
    "                                                   \n",
    "                                                   Parameter == 'TEMP' & Value < 25~ -1,\n",
    "                                                   Parameter == 'TEMP' & Value > 400 ~ -1,\n",
    "                                                   Parameter == 'TEMP' & Value > 300 & Value < 400 ~ Value/10,\n",
    "                                                   Parameter == 'TEMP' & Value > 45 ~ -1,\n",
    "                                                   \n",
    "                                                   Parameter == 'SYS' & Value < 30 ~ -1,\n",
    "                                                   Parameter == 'SYS' & Value > 3000 ~ -1,\n",
    "                                                   Parameter == 'SYS' & Value > 700 & Value < 3000 ~ Value/10,\n",
    "                                                   Parameter == 'SYS' & Value > 350 ~ -1,\n",
    "                                                   \n",
    "                                                   Parameter == 'DIA' & Value < 30 ~ -1,\n",
    "                                                   Parameter == 'DIA' & Value > 1500 ~ -1,\n",
    "                                                   Parameter == 'DIA' & Value > 400 & Value < 1500 ~ Value/10,\n",
    "                                                   Parameter == 'DIA' & Value > 250 ~ -1,\n",
    "                                                   \n",
    "                                                   Parameter == 'MAP' & Value < 30 ~ -1,\n",
    "                                                   Parameter == 'MAP' & Value > 2500 ~-1,\n",
    "                                                   Parameter == 'MAP' & Value > 400 & Value < 2500 ~ Value/10,\n",
    "                                                   Parameter == 'MAP' & Value > 250 ~-1,\n",
    "                                                   \n",
    "                                                   Parameter == 'HF' & Value < 0 ~ -1,\n",
    "                                                   Parameter == 'HF' & Value > 1500 ~ -1,\n",
    "                                                   Parameter == 'HF' & Value > 500 & Value < 1500 ~ Value/10,\n",
    "                                                   Parameter == 'HF' & Value > 300 ~ -1,\n",
    "                                                   \n",
    "                                                   Parameter == 'FiO2' & Value < 0 ~ -1,\n",
    "                                                   Parameter == 'FiO2' & Value > 100 ~ -1,\n",
    "                                                   Parameter == 'FiO2' & Value < 21 & Value > 1 ~ 21,\n",
    "                                                   Parameter == 'FiO2' & Value > 0.21 & Value < 1 ~ Value*100,\n",
    "                                                   \n",
    "                                                   Parameter == 'SpO2' & Value < 0 ~ -1,\n",
    "                                                   Parameter == 'SpO2' & Value > 100 ~ -1,\n",
    "                                                   Parameter == 'SpO2' & Value > 0.5 & Value < 1 ~ Value*100,\n",
    "                                                   \n",
    "                                                   TRUE ~ Value\n",
    "                                                  )\n",
    "                                ) %>% filter(Value != -1)\n",
    "vitals_dt %>% group_by(Parameter) %>% summarize(mean=mean(Value), min=min(Value), max=max(Value), var=var(Value))"
   ]
  },
  {
   "cell_type": "code",
   "execution_count": null,
   "metadata": {},
   "outputs": [],
   "source": [
    "write_csv(vitals_dt, paste0(data_path, 'vitals_dt_clean.csv'))"
   ]
  },
  {
   "cell_type": "markdown",
   "metadata": {},
   "source": [
    "## Process vitals in chunks"
   ]
  },
  {
   "cell_type": "code",
   "execution_count": null,
   "metadata": {},
   "outputs": [],
   "source": [
    "########################\n",
    "# load libraries\n",
    "library(tidyverse) # install.packages(\"tidyverse\")\n",
    "library(data.table)  # install.packages(\"data.table\")\n",
    "\n",
    "# To know the current storage capacity\n",
    "memory.limit()\n",
    "\n",
    "# To increase the storage capacity (increases storage capacity to >>>7GB)\n",
    "memory.limit(size=99000)\n",
    "\n",
    "# Path to directory with data files\n",
    "data_path <- 'ICV_data/'\n",
    "\n",
    "interval_times_df <- read_csv(paste0(data_path, 'interval_times_df.csv'))\n",
    "interval_times_dt <- as.data.table(interval_times_df, key = 'PatientID')\n",
    "\n",
    "vitals_dt <- read_csv(paste0(data_path, 'vitals_dt_clean.csv'))\n",
    "\n",
    "### DO IN CHUNKS:\n",
    "pt_list <- unique(interval_times_dt$PatientID)\n",
    "pt_list_subsets <- split(pt_list, ceiling(seq_along(pt_list)/100))\n",
    "\n",
    "# loop through chunk:\n",
    "print(\"starting vital processing\")\n",
    "for(i in 1:length(pt_list_subsets)){\n",
    "  print(paste('run ',as.character(i),' out of ',as.character(length(pt_list_subsets))))\n",
    "  vitals_subset <- vitals_dt[vitals_dt$PatientID %in% pt_list_subsets[[i]], ]\n",
    "  interval_times_dt_subset <- interval_times_dt[interval_times_dt$PatientID %in% pt_list_subsets[[i]], ]\n",
    "  \n",
    "  # Merge vitals with interval times\n",
    "  merged_vitals <- interval_times_dt_subset %>%  merge(vitals_subset, allow.cartesian = TRUE)\n",
    "  \n",
    "  # INNER JOIN BY \"mean(Values) between interval_start_end & interval_end_time\"\n",
    "  mean_vitals_subset <- merged_vitals[Time > interval_start_time & Time <= interval_end_time,\n",
    "                               .(mean_vital = mean(Value)), by = .(PatientID, \n",
    "                                                                   interval_start_time, \n",
    "                                                                   interval_end_time, \n",
    "                                                                   Parameter)]\n",
    "  if(i==1) {\n",
    "    all_mean_vitals <- mean_vitals_subset\n",
    "  } else{\n",
    "    all_mean_vitals <- rbind(all_mean_vitals, mean_vitals_subset)\n",
    "  }\n",
    "}\n",
    "\n",
    "#########################################\n",
    "# Visual check merged vitals\n",
    "head(all_mean_vitals)\n",
    "\n",
    "# save to csv\n",
    "write_csv(all_mean_vitals, paste0(data_path, 'all_mean_vitals.csv'))\n",
    "\n",
    "# finish\n",
    "sprintf(\"Finished at: %st\", Sys.time())"
   ]
  },
  {
   "cell_type": "markdown",
   "metadata": {},
   "source": [
    "## Import and process labs"
   ]
  },
  {
   "cell_type": "code",
   "execution_count": null,
   "metadata": {},
   "outputs": [],
   "source": [
    "########################\n",
    "# load libraries\n",
    "library(tidyverse) # install.packages(\"tidyverse\")\n",
    "library(data.table)  # install.packages(\"data.table\")\n",
    "\n",
    "# To know the current storage capacity\n",
    "memory.limit()\n",
    "\n",
    "# To increase the storage capacity (increases storage capacity to >>>7GB)\n",
    "memory.limit(size=99000)\n",
    "\n",
    "# Path to directory with data files\n",
    "data_path <- 'ICV_data/'\n",
    "\n",
    "# load the labs data\n",
    "labs_dt <- read_csv(paste0(data_path, 'Labs.csv'))\n",
    "\n",
    "# subset\n",
    "keep <- c(\"PatientID\", \"Time\", \"Parameter\", \"Value\")\n",
    "labs_dt <- labs_dt[c(keep)]\n",
    "\n",
    "# Cast labs data to data.table\n",
    "labs_dt <- as.data.table(labs_dt, key = 'PatientID')"
   ]
  },
  {
   "cell_type": "markdown",
   "metadata": {},
   "source": [
    "## Clean up Labs"
   ]
  },
  {
   "cell_type": "code",
   "execution_count": null,
   "metadata": {},
   "outputs": [],
   "source": [
    "labs_dt %>% group_by(Parameter) %>% summarize(mean=mean(Value), min=min(Value), max=max(Value), var=var(Value))"
   ]
  },
  {
   "cell_type": "code",
   "execution_count": null,
   "metadata": {},
   "outputs": [],
   "source": [
    "# cleanup\n",
    "labs_dt = labs_dt %>% mutate(Value = case_when(Parameter == 'Magnesium' & Value < 0.2 ~ -1,\n",
    "\n",
    "                                               Parameter == 'INR' & Value > 90 & Value < 300 ~ Value/100,\n",
    "                                               Parameter == 'INR' & Value < 0 ~ -1,\n",
    "                                               Parameter == 'INR' & Value > 20 ~ -1,\n",
    "                                               \n",
    "                                               Parameter == 'Ion_Ca' & Value < 0 ~ -1,\n",
    "                                               Parameter == 'Ion_Ca' & Value > 800 & Value < 1400 ~ Value/100,\n",
    "                                               Parameter == 'Ion_Ca' & Value > 10 ~ -1,\n",
    "                                               \n",
    "                                               Parameter == 'Fosfaat' & Value > 4 ~ -1,\n",
    "                                               \n",
    "                                               Parameter == 'PCO2' & Value < 10 ~ -1,\n",
    "                                               Parameter == 'PCO2' & Value > 250 ~ -1,\n",
    "                                               \n",
    "                                               Parameter == 'PCO2' & Value < 10 ~ -1,\n",
    "                                               Parameter == 'PCO2' & Value > 250 ~ -1,\n",
    "                                               \n",
    "                                               Parameter == 'PCO2' & Value < 10 ~ -1,\n",
    "                                               Parameter == 'PCO2' & Value > 250 ~ -1,\n",
    "                                               \n",
    "                                               Parameter == 'ANION-GAP' & Value < -10 ~ -1,\n",
    "                                               Parameter == 'ANION-GAP' & Value > 100 ~ -1,\n",
    "                                               \n",
    "                                               Parameter == 'Bicarbonaat' & Value < -20 ~ -1,\n",
    "                                               Parameter == 'bicarbonaat' & Value > 130 & Value < 300 ~ Value/10,\n",
    "                                               Parameter == 'bicarbonaat' & Value > 1300 & Value < 3000 ~ Value/100,\n",
    "                                               Parameter == 'Bicarbonaat' & Value > 50 ~ -1,\n",
    "                                               \n",
    "                                               Parameter == 'Chloor' & Value < 50 ~ -1,\n",
    "                                               Parameter == 'Chloor' & Value > 250 ~ -1,\n",
    "\n",
    "                                               Parameter == 'PCO2' & Value < 10 ~ -1,\n",
    "                                               Parameter == 'PCO2' & Value > 250 ~ -1,\n",
    "                                               \n",
    "                                               Parameter == 'PO2' & Value < 10 ~ -1,\n",
    "                                               Parameter == 'PO2' & Value > 250 ~ -1,\n",
    "                                               \n",
    "                                               Parameter == 'PH' & Value < 5 ~ -1,\n",
    "                                               Parameter == 'PH' & Value < 9 ~ -1,\n",
    "                                               Parameter == 'PH' & Value > 6700 & Value < 7600 ~ Value/100,\n",
    "                                               Parameter == 'PH' & Value > 670 & Value < 760 ~ Value/10,\n",
    "                                               \n",
    "                                               Parameter == 'Natrium' & Value < 90 ~ -1,\n",
    "                                               Parameter == 'Natrium' & Value > 1000 & Value < 15000 ~ Value/10,\n",
    "                                               Parameter == 'Natrium' & Value > 180 ~ -1,\n",
    "                                               \n",
    "                                               Parameter == 'Kalium' & Value < 1 ~ -1,\n",
    "                                               Parameter == 'Kalium' & Value > 10 ~ -1,\n",
    "                                               \n",
    "                                               Parameter == 'Lactaat' & Value < 0 ~ -1,\n",
    "                                               Parameter == 'Lactaat' & Value > 50 ~ -1,\n",
    "                                               \n",
    "                                               TRUE ~ Value\n",
    "                                                  )\n",
    "                                ) %>% filter(Value != -1) \n",
    "print(labs_dt %>% group_by(Parameter) %>% summarize(mean=mean(Value), min=min(Value), max=max(Value), var=var(Value)))"
   ]
  },
  {
   "cell_type": "code",
   "execution_count": null,
   "metadata": {},
   "outputs": [],
   "source": [
    "labs_dt %>% group_by(Parameter) %>% summarize(mean=mean(Value), min=min(Value), max=max(Value), var=var(Value))"
   ]
  },
  {
   "cell_type": "code",
   "execution_count": null,
   "metadata": {},
   "outputs": [],
   "source": [
    "write_csv(labs_dt, paste0(data_path, 'labs_dt_clean.csv'))"
   ]
  },
  {
   "cell_type": "markdown",
   "metadata": {},
   "source": [
    "## Process Labs in chunks - merge with interval_times"
   ]
  },
  {
   "cell_type": "code",
   "execution_count": null,
   "metadata": {},
   "outputs": [],
   "source": [
    "########################\n",
    "# load libraries\n",
    "library(tidyverse) # install.packages(\"tidyverse\")\n",
    "library(data.table)  # install.packages(\"data.table\")\n",
    "\n",
    "# To know the current storage capacity\n",
    "memory.limit()\n",
    "\n",
    "# To increase the storage capacity (increases storage capacity to >>>7GB)\n",
    "memory.limit(size=99000)\n",
    "\n",
    "# Path to directory with data files\n",
    "data_path <- 'ICV_data/'\n",
    "\n",
    "interval_times_df <- read_csv(paste0(data_path, 'interval_times_df.csv'))\n",
    "interval_times_dt <- as.data.table(interval_times_df, key = 'PatientID')\n",
    "\n",
    "labs_dt <- read_csv(paste0(data_path, 'labs_dt_clean.csv'))\n",
    "\n",
    "### DO IN CHUNKS:\n",
    "pt_list <- unique(interval_times_dt$PatientID)\n",
    "pt_list_subsets <- split(pt_list, ceiling(seq_along(pt_list)/100))\n",
    "\n",
    "# loop through chunk:\n",
    "print(\"starting labs processing\")\n",
    "for(i in 1:length(pt_list_subsets)){\n",
    "  print(paste('run ',as.character(i),' out of ',as.character(length(pt_list_subsets))))\n",
    "  labs_subset <- labs_dt[labs_dt$PatientID %in% pt_list_subsets[[i]], ]\n",
    "  interval_times_dt_subset <- interval_times_dt[interval_times_dt$PatientID %in% pt_list_subsets[[i]], ]\n",
    "  \n",
    "  # Merge vitals with interval times\n",
    "  merged_labs <- interval_times_dt_subset %>%  merge(labs_subset, allow.cartesian = TRUE)\n",
    "  \n",
    "  # INNER JOIN BY \"mean(Values) between interval_start_end & interval_end_time\"\n",
    "  mean_labs_subset <- merged_labs[Time > interval_start_time & Time <= interval_end_time,\n",
    "                               .(mean_lab = mean(Value)), by = .(PatientID, \n",
    "                                                                   interval_start_time, \n",
    "                                                                   interval_end_time, \n",
    "                                                                   Parameter)]\n",
    "  if(i==1) {\n",
    "    all_mean_labs <- mean_labs_subset\n",
    "  } else{\n",
    "    all_mean_labs <- rbind(all_mean_labs, mean_labs_subset)\n",
    "  }\n",
    "}\n",
    "\n",
    "# visual check merged labs\n",
    "head(all_mean_labs)\n",
    "\n",
    "# write to csv\n",
    "write_csv(all_mean_labs, paste0(data_path, 'all_mean_labs.csv'))\n",
    "\n",
    "# cleanup\n",
    "sprintf(\"Finished at: %st\", Sys.time())"
   ]
  },
  {
   "cell_type": "markdown",
   "metadata": {},
   "source": [
    "## Merge vitals and labs"
   ]
  },
  {
   "cell_type": "code",
   "execution_count": null,
   "metadata": {},
   "outputs": [],
   "source": [
    "########################\n",
    "# load libraries\n",
    "library(tidyverse) # install.packages(\"tidyverse\")\n",
    "library(data.table)  # install.packages(\"data.table\")\n",
    "\n",
    "# To know the current storage capacity\n",
    "memory.limit()\n",
    "\n",
    "# To increase the storage capacity (increases storage capacity to >>>7GB)\n",
    "memory.limit(size=99000)\n",
    "\n",
    "# Path to directory with data files\n",
    "data_path <- 'ICV_data/'\n",
    "\n",
    "# import data\n",
    "mean_vitals <- read_csv(paste0(data_path, 'all_mean_vitals.csv'))\n",
    "mean_labs <- read_csv(paste0(data_path, 'all_mean_labs.csv'))\n",
    "\n",
    "# make it pretty\n",
    "mean_labs <- mean_labs %>% rename(mean_value = mean_lab)\n",
    "mean_vitals <- mean_vitals %>% rename(mean_value = mean_vital)\n",
    "\n",
    "# Join tables\n",
    "mean_labs_vitals_temp <- mean_labs %>% full_join(mean_vitals)\n",
    "\n",
    "# take mean of duplicates (to do: find origin of duplicates)\n",
    "mean_labs_vitals = mean_labs_vitals_temp %>% group_by(PatientID, interval_start_time, interval_end_time, Parameter) %>% summarise(mean_value = mean(mean_value))\n",
    "\n",
    "# PIVOT and join with interval times\n",
    "vitals_labs_spread <- mean_labs_vitals %>% spread(Parameter, mean_value) %>% right_join(interval_times_dt) \n",
    "print(c(names(vitals_labs_spread)))"
   ]
  },
  {
   "cell_type": "code",
   "execution_count": null,
   "metadata": {},
   "outputs": [],
   "source": [
    "# Exclude times in which no measurements were made\n",
    "vitals_labs_spread_filt <- vitals_labs_spread %>%\n",
    "  gather(Parameter, mean_value, 4:ncol(vitals_labs_spread)) %>%  # these are column indexes for the \"actual parameter now transposed\"\n",
    "  group_by(PatientID, interval_start_time, interval_end_time) %>%\n",
    "  summarise(exclude = all(is.na(mean_value))) %>%\n",
    "  full_join(vitals_labs_spread) %>% filter(!exclude) %>% select(-exclude) # filter can be applied to identify rows without any lab or vital measurements\n",
    "\n",
    "# visual check of combined vitals and labs spread file (almost final file)\n",
    "print(names(vitals_labs_spread_filt))\n",
    "sprintf(\"Finished at: %st\", Sys.time())"
   ]
  },
  {
   "cell_type": "markdown",
   "metadata": {},
   "source": [
    "## Save vitals_and_labs"
   ]
  },
  {
   "cell_type": "code",
   "execution_count": null,
   "metadata": {},
   "outputs": [],
   "source": [
    "########################\n",
    "### export data to csv\n",
    "vitals_labs_spread_filt = vitals_labs_spread_filt[ ,-ncol(vitals_labs_spread_filt)]\n",
    "write_csv(vitals_labs_spread_filt, paste0(data_path, 'vitals_labs_spread_filt.csv'))\n",
    "sprintf(\"Finished at: %st\", Sys.time())"
   ]
  },
  {
   "cell_type": "markdown",
   "metadata": {},
   "source": [
    "# Create ICV_state_space"
   ]
  },
  {
   "cell_type": "code",
   "execution_count": null,
   "metadata": {},
   "outputs": [],
   "source": [
    "# load libraries\n",
    "library(tidyverse) # install.packages(\"tidyverse\")\n",
    "library(data.table)  # install.packages(\"data.table\")\n",
    "\n",
    "# To know the current storage capacity\n",
    "memory.limit()\n",
    "\n",
    "# To increase the storage capacity (increases storage capacity to >>>7GB)\n",
    "memory.limit(size=99000)\n",
    "\n",
    "# Path to directory with data files\n",
    "data_path <- 'ICV_data/'\n",
    "\n",
    "########################\n",
    "# load interval times\n",
    "interval_times_df <- read_csv(paste0(data_path, 'interval_times_df.csv'))\n",
    "interval_times_dt <- as.data.table(interval_times_df, key = 'PatientID')\n",
    "\n",
    "# Load the cohort and the interval times -- interval times derived in 'create_action_space.ipynb'\n",
    "data_path <- 'ICV_data/'\n",
    "\n",
    "### import cohort, labs and vitals, demographics and actions\n",
    "vitals_labs <- read_csv(paste0(data_path, 'vitals_labs_spread_filt.csv'))\n",
    "demographics <- read_csv(paste0(data_path, 'demographics_df.csv'))\n",
    "\n",
    "# visual inspect\n",
    "print(names(interval_times_df))\n",
    "print(names(vitals_labs))\n",
    "print(names(demographics))"
   ]
  },
  {
   "cell_type": "markdown",
   "metadata": {},
   "source": [
    "## FILL lab and vital values: arranged by start time (ordered by time) and grouped by patientID"
   ]
  },
  {
   "cell_type": "code",
   "execution_count": null,
   "metadata": {},
   "outputs": [],
   "source": [
    "########################\n",
    "### Merge vitals with labs with interval times\n",
    "vitals_labs_lvcf <- vitals_labs %>% group_by(PatientID) %>%\n",
    "  arrange(PatientID, interval_start_time, interval_end_time) %>%\n",
    "  fill(AF:Ureum)\n",
    "\n",
    "# final merge with demographics\n",
    "data_filled <- vitals_labs_lvcf %>% full_join(demographics) %>% ungroup()\n",
    "sprintf(\"Finished at: %st\", Sys.time())\n",
    "dim(data_filled)"
   ]
  },
  {
   "cell_type": "markdown",
   "metadata": {},
   "source": [
    "## ADD URINE and cumulative URINE output to ICV_state_space"
   ]
  },
  {
   "cell_type": "code",
   "execution_count": null,
   "metadata": {},
   "outputs": [],
   "source": [
    "# load the urine output data\n",
    "urine_df <- read_csv(paste0(data_path, 'UrineOutput.csv'))\n",
    "urine_dt <- as.data.table(urine_df, key = 'PatientID') %>% filter(UrineOutput >0 & UrineOutput <5000)\n",
    "\n",
    "# Merge with interval times\n",
    "merged_urine <- interval_times_dt %>% merge(urine_dt, allow.cartesian = TRUE)"
   ]
  },
  {
   "cell_type": "code",
   "execution_count": null,
   "metadata": {},
   "outputs": [],
   "source": [
    "# MERGE WITH MEAN() + Keep only 'real value' (urine production within interval times)\n",
    "total_urine_df <- merged_urine[Time > interval_start_time & Time <= interval_end_time,\n",
    "                         .(total_UP = sum(UrineOutput)), by = .(PatientID, \n",
    "                                                           interval_start_time, \n",
    "                                                           interval_end_time)]\n",
    "total_urine_df <- total_urine_df %>% right_join(interval_times_dt) %>%  group_by(PatientID, interval_start_time, interval_end_time) %>%replace_na(list(total_UP = 0))\n",
    "\n",
    "# add running total\n",
    "all_UP <- total_urine_df %>% group_by(PatientID) %>% arrange(PatientID, interval_start_time, interval_end_time) %>% mutate(Running_total_UP = cumsum(total_UP))\n",
    "\n",
    "# visual check\n",
    "head(all_UP)\n",
    "dim(all_UP)\n",
    "dim(interval_times_dt)\n",
    "\n",
    "# cleanup\n",
    "sprintf(\"Finished at: %st\", Sys.time())"
   ]
  },
  {
   "cell_type": "markdown",
   "metadata": {},
   "source": [
    "## Add urine produciton to ICV_state_space"
   ]
  },
  {
   "cell_type": "code",
   "execution_count": null,
   "metadata": {},
   "outputs": [],
   "source": [
    "# CREATE FINAL DATASET\n",
    "data_all <- data_filled %>% full_join(all_UP)\n",
    "# INSPECT\n",
    "dim(data_all)\n",
    "head(data_all)\n",
    "print(names(data_all))"
   ]
  },
  {
   "cell_type": "code",
   "execution_count": null,
   "metadata": {},
   "outputs": [],
   "source": [
    "#######################\n",
    "### export data to csv\n",
    "write_csv(data_all, paste0(data_path, 'ICV_statespace.csv'))\n",
    "sprintf(\"Finished at: %st\", Sys.time())"
   ]
  },
  {
   "cell_type": "markdown",
   "metadata": {},
   "source": [
    "# LAST STEP: Add outcome and reward"
   ]
  },
  {
   "cell_type": "code",
   "execution_count": null,
   "metadata": {},
   "outputs": [],
   "source": [
    "##########\n",
    "### PREPARATION\n",
    "data_path <- 'ICV_data/'\n",
    "\n",
    "# load libraries\n",
    "library(tidyverse)   # install.packages(\"tidyverse\")\n",
    "library(data.table)  # install.packages(\"data.table\")\n",
    "\n",
    "########################\n",
    "### import import data\n",
    "cohort_df <- read_csv(paste0(data_path, 'cohort_df.csv'))\n",
    "action_df <- read_csv(paste0(data_path, 'action_df.csv'))\n",
    "alldata_df <- read_csv(paste0(data_path, 'ICV_statespace.csv'))"
   ]
  },
  {
   "cell_type": "code",
   "execution_count": null,
   "metadata": {},
   "outputs": [],
   "source": [
    "########################\n",
    "### Start with patient cohort (patientID and survival=Discharge)\n",
    "outcome_df <- cohort_df %>% group_by(PatientID) %>% select(PatientID, Discharge)\n",
    "\n",
    "########################\n",
    "### Merge data with Actions and add outcome\n",
    "alldata_df_action <- alldata_df %>% inner_join(select(action_df, PatientID,\n",
    "                                                      interval_start_time, \n",
    "                                                      interval_end_time,\n",
    "                                                      discrete_action,\n",
    "                                                      total_IV,\n",
    "                                                      Running_total_IV,\n",
    "                                                      max_VP)) %>%inner_join(outcome_df)\n",
    "\n",
    "######################## \n",
    "# Add final reward \n",
    "temp_alldata <- alldata_df_action %>% group_by(PatientID,Discharge) %>% summarise(interval_start_time = max(interval_start_time)) %>%  mutate(reward = ifelse(Discharge, -15, 15)) # dead = 1, alive = 0\n",
    "\n",
    "# add zeros for intermediate reward\n",
    "temp_alldata_action_reward <- alldata_df_action %>% left_join(temp_alldata) %>% replace_na(list(reward = 0))\n",
    "\n",
    "# visual check\n",
    "print(names(temp_alldata_action_reward))"
   ]
  },
  {
   "cell_type": "markdown",
   "metadata": {},
   "source": [
    "# total_IV and max_VP Action shift (lag one state behind current state)"
   ]
  },
  {
   "cell_type": "code",
   "execution_count": null,
   "metadata": {},
   "outputs": [],
   "source": [
    "temp_alldata_action_reward = temp_alldata_action_reward %>% \n",
    "        group_by(PatientID) %>% mutate(total_IV_prev = lag(total_IV,order_by=PatientID)) %>% \n",
    "        mutate(total_IV_prev = replace_na(total_IV_prev, 0))\n",
    "\n",
    "temp_alldata_action_reward = temp_alldata_action_reward %>% \n",
    "mutate(max_VP_prev = lag(max_VP,order_by = PatientID)) %>% mutate(max_VP_prev = replace_na(max_VP_prev, 0)) "
   ]
  },
  {
   "cell_type": "markdown",
   "metadata": {},
   "source": [
    "# FINAL TABLE"
   ]
  },
  {
   "cell_type": "code",
   "execution_count": null,
   "metadata": {},
   "outputs": [],
   "source": [
    "########################\n",
    "### Create final table\n",
    "ICV_all <- temp_alldata_action_reward %>% rename(ANION_GAP = 'ANION-GAP') %>% \n",
    "                                          rename(Height = Lengte) %>% \n",
    "                                          rename(Gender = Gender) %>%\n",
    "                                          rename(Reward = reward) %>%\n",
    "                                          rename(Temp = TEMP) %>%\n",
    "                                          mutate(Ventilator = ifelse(Ventilation == \"NO\", 0, 1)) %>%\n",
    "                                          rename(HeartRate = HF) %>%\n",
    "                                          rename(Sofa_score = SOFA) %>%\n",
    "                                          rename(Sirs_score = SIRS) %>%\n",
    "                                          rename(RespRate = AF) %>%\n",
    "                                          rename(Lactate = Lactaat) %>%\n",
    "                                          rename(PaO2 = PO2) %>%\n",
    "                                          rename(PaCO2 = PCO2) %>%\n",
    "                                          rename(SpO2 = SpO2) %>%\n",
    "                                          rename(Art_PH = PH) %>%\n",
    "                                          rename(Bicarbonaat = Bicarbonaat) %>%\n",
    "                                          rename(Art_BE= Art_BE) %>%\n",
    "                                          rename(Calcium = Calcium) %>%\n",
    "                                          rename(Ion_Ca = Ion_Ca) %>%\n",
    "                                          rename(Chloride = Chloor) %>%\n",
    "                                          rename(Ureum = Ureum) %>% \n",
    "                                          rename(Creat = CREAT) %>%\n",
    "                                          rename(Bili = BILI) %>%\n",
    "                                          rename(INR=INR) %>%\n",
    "                                          rename(Albumine = Albumine) %>% \n",
    "                                          rename(Trombo = TROMBO) %>%\n",
    "                                          rename(FiO2 = FiO2) %>%\n",
    "                                          rename(Running_total_IV = Running_total_IV) %>%\n",
    "                                          mutate(Shock_Index = HeartRate / na_if(SYS,0)) %>%\n",
    "                                          mutate(PF_ratio = PaO2 / na_if(FiO2, 0)) %>% #mutate(PF_ratio = na_if(PF_ratio, NA))\n",
    "                                          select(-GCS,-qsofa_vent,-qsofa_sysbp,-CRP,-CK,-Fosfaat,-Amylase,-Ventilation)\n",
    "# order collumns by name (the order in which they will appear in the pickled data dictionaty)\n",
    "ICV_all = ICV_all[,c(names(ICV_all)[1:3],sort(colnames(ICV_all[4:ncol(ICV_all)] )))]\n",
    "print(names(ICV_all))"
   ]
  },
  {
   "cell_type": "code",
   "execution_count": null,
   "metadata": {},
   "outputs": [],
   "source": [
    "########################\n",
    "### export data to csv\n",
    "final_data_path = 'data/'\n",
    "write_csv(ICV_all, paste0(final_data_path, 'ICV_data.csv'))\n",
    "sprintf(\"Finished at: %st\", Sys.time())"
   ]
  },
  {
   "cell_type": "markdown",
   "metadata": {},
   "source": [
    "## Merge with original admission_df to create < and => 2014 subsets"
   ]
  },
  {
   "cell_type": "code",
   "execution_count": null,
   "metadata": {},
   "outputs": [],
   "source": [
    "########################\n",
    "library(tidyverse) # install.packages(\"tidyverse\") # library(devtools) # install_version(\"rlang\", version = \"0.2.2\", repos = \"http://cran.us.r-project.org\")\n",
    "\n",
    "########################\n",
    "# IMPORT DATA\n",
    "ICV_data_path <- 'ICV_data/'\n",
    "ICV_df <- read_csv(paste0(ICV_data_path, 'Admissions.csv'))  %>% select(PatientID, AddmissionDate)\n",
    "ICV_data <- read_csv('data/ICV_data.csv')"
   ]
  },
  {
   "cell_type": "code",
   "execution_count": null,
   "metadata": {},
   "outputs": [],
   "source": [
    "########################\n",
    "### Combine vitals and labs (data_all.csv) with actions (action_df.csv) and cohort (cohort.csv: only for discharge[0=alive])\n",
    "ICV_data <- ICV_data %>% left_join(ICV_df)\n",
    "final_data_path = 'data/'\n",
    "\n",
    "########################\n",
    "# export OLD data to csv\n",
    "ICV_before = ICV_data %>% filter(AddmissionDate < as.POSIXct(\"2014-01-01 00:00:00\")) %>% select(-AddmissionDate)\n",
    "write_csv(ICV_before, paste0(final_data_path, 'ICV_olddata.csv'))\n",
    "\n",
    "# export new data\n",
    "ICV_after = ICV_data %>% filter(AddmissionDate >= as.POSIXct(\"2014-01-01 00:00:00\")) %>% select(-AddmissionDate)\n",
    "write_csv(ICV_after, paste0(final_data_path, 'ICV_newdata.csv'))\n",
    "\n",
    "sprintf(\"Finished at: %st\", Sys.time())\n"
   ]
  },
  {
   "cell_type": "markdown",
   "metadata": {},
   "source": [
    "## Reproducability is important"
   ]
  },
  {
   "cell_type": "code",
   "execution_count": null,
   "metadata": {},
   "outputs": [],
   "source": [
    "sessionInfo()\n",
    "sprintf(\"Finished at: %st\", Sys.time())"
   ]
  }
 ],
 "metadata": {
  "kernelspec": {
   "display_name": "R",
   "language": "R",
   "name": "ir"
  },
  "language_info": {
   "codemirror_mode": "r",
   "file_extension": ".r",
   "mimetype": "text/x-r-source",
   "name": "R",
   "pygments_lexer": "r",
   "version": "3.6.1"
  }
 },
 "nbformat": 4,
 "nbformat_minor": 4
}
